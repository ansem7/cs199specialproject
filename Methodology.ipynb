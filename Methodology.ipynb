{
  "cells": [
    {
      "cell_type": "markdown",
      "metadata": {
        "id": "8IPrrPabIqpF"
      },
      "source": [
        "# **Torchattacks and ResNet50: A Comparative Analysis of Adversarial Attack Performance**\n",
        "### **by Ramirez, D., Encarnacion, S., Recuerdo, D.**\n",
        "CS 199 - Computer Security Lab\n",
        "\n",
        "University of the Philippines, Diliman\n",
        "\n",
        "---"
      ]
    },
    {
      "cell_type": "markdown",
      "metadata": {
        "id": "--i6gXRTzARb"
      },
      "source": [
        "# **3. Methodology**"
      ]
    },
    {
      "cell_type": "markdown",
      "metadata": {
        "id": "MgqNU9Iz3ET_"
      },
      "source": [
        "## **3.1 Research Design**\n"
      ]
    },
    {
      "cell_type": "markdown",
      "source": [
        "### **3.1.1 Research Objective**\n",
        "The study aims to perform a comparative analysis on the performance of the convolutional neural network (CNN) image classification model ResNet50 when classifying adversarial images generated using various adversarial attack types from the torchattacks library. The study uses several metrics such as accuracy, precision, recall, F1 score, and attack execution time to evaluate the model's performance, and gain insights into the robustness of ResNet50 against adversarial attacks and identify potential areas for improving its resilience against such attacks.\n",
        "\n",
        "### **3.1.2 Scope and Delimitations of the Study**\n",
        "\n",
        "The researchers chose to use the ResNet50 model, torchattacks library, and nine adversarial attack types from the library: FGSM, PGD, CW, PGD L2, NIFGSM, Pixle, SINIFGSM, VMIFGSM, and VNIFGSM. These adversarial images are generated from a subset of a [Kaggle dataset](https://www.kaggle.com/datasets/kritikseth/fruit-and-vegetable-image-recognition) of fruits and vegetables), where 50 images are randomly selected (25 images of fruits and 25 images of vegetables). Thereafter, the performance of the model is assessed based on various metrics. This includes measuring the model's accuracy, precision, recall, F1 score, and attack execution time.\n",
        "\n",
        "As the researchers lack time and exceptional hardware resources, they decided to limit the number of images used to 50, use only ResNet50 as the classification model, and utilize just torchattacks as the adversarial attack library. These delimitations should be kept in mind as they can affect the results and should be considered for future studies that may be similar to or based on this paper."
      ],
      "metadata": {
        "id": "F3bCAWiCOoFo"
      }
    },
    {
      "cell_type": "markdown",
      "source": [
        "## **3.2 Dataset**\n",
        "\n",
        "\n"
      ],
      "metadata": {
        "id": "uopsgHy8NLDM"
      }
    },
    {
      "cell_type": "markdown",
      "source": [
        "### **3.2.1 Data Collection**\n",
        "Putting the data collection code in this notebook and running the entire program risks overwriting the initial sampled dataset. The researchers used this sample in performing the procedures and analyzing the performance results. To see how the process was done, click this link: [Data Collection](https://colab.research.google.com/drive/1yMzZIq_PsDqZzGxdwsFyOpltDfdPnQ9W?usp=sharing)\n"
      ],
      "metadata": {
        "id": "SMqLqRF4Olrr"
      }
    },
    {
      "cell_type": "markdown",
      "source": [
        "## **3.3 Model**"
      ],
      "metadata": {
        "id": "gB-iiIs6NPM9"
      }
    },
    {
      "cell_type": "markdown",
      "source": [
        "### **3.3.1 ResNet50**\n",
        "\n",
        "ResNet is a deep convolutional neural network (CNN) architecture that stands for \"Residual Network,\" (Kundu, 2023). ResNet50 is a variant of the said architecture with \"50\" in the name referring to the number of layers in the network. The researchers selected this model because it is accessible, easy to use as it is already pre-trained, and uses 1000 classifications, including those that are used by the image dataset from Kaggle. Mathworks (n.d.) mentioned, \"You can load a pretrained version of the neural network trained on more than a million images from the ImageNet database. The pretrained neural network can classify images into 1000 object categories, such as keyboard, mouse, pencil, and many animals. As a result, the neural network has learned rich feature representations for a wide range of images.\"\n",
        "\n",
        "\n",
        "\n"
      ],
      "metadata": {
        "id": "0QMdCGSiOecw"
      }
    },
    {
      "cell_type": "markdown",
      "source": [
        "## **3.4 Adversarial Attacks and Image Generation**\n",
        "\n",
        "\n"
      ],
      "metadata": {
        "id": "dDOHEcTJNSiL"
      }
    },
    {
      "cell_type": "markdown",
      "source": [
        "In order to choose which attack type to use, the researchers looked at the torchattack repository and looked at the types that were already studied and the most recently cited, specifically in the year 2022. The study used the following adversarial attack types:\n",
        "\n",
        "a. Fast Gradient Sign Method (FGSM): this uses the neural network's gradients to create an adversarial eampe. This method uses the gradients of the loss with respect to the image to make a new image that maximizes the loss.\n",
        "\n",
        "b. Projected Gradient Descent (PGD): this is an iterative version of FGSM. Considered one of the strongest gradient-based attacks, this process consists of performing multiple FGSM attacks with small step sizes and clipping pixels that get modified beyond an epsilon ball.\n",
        "\n",
        "c. Carlini & Wagner (CW) Attack: this generates adversarial images by formulating it as an optimization problem. It seeks to discover the smallest perturbation to the image, causing a misclassification by the target model.\n",
        "\n",
        "d. Projected Gradient Descent with L2 Norm Constraint (PGD L2): a variant of PGD that uses the L2 norm constraint on the adversarial perturbation. This generates examples using different Lp norms.\n",
        "\n",
        "e. Nesterov Iterative Fast Gradient Sign Method (NIFGSM): the transferability of adversarial examples is improved by incorporating Nesterov's accelerated gradient into the iterative attacks. It looks ahead and enhances the transferability of examples.\n",
        "\n",
        "f. Pixle: a black-box attack that can correctly attack a high percentage of dataset samples. This is done by rearranging a small number of pixels within the input image.\n",
        "\n",
        "g. Scale-Invariant Nesterov Iterative Fast Gradient Sign Method (SINIFGSM): leverages the scale-invariant property of deep learning models. Aside from this, it also optimizes the adversarial example through multiple images as its inputs.\n",
        "\n",
        "h. VMIFGSM: enhances the class of iterative gradient-based attack methods and enhances their attack transferability. For every gradient calculation's iteration, it considers the variance of the previous iteration to determine the current gradient. This is opposite to attacks that directly use the current gradient momentum accumulation.\n",
        "\n",
        "i. VNIFGSM: similar to VMIFGSM. Unfortunately, the available information regarding this attack method is limited.\n",
        "\n",
        "These attacks were used to generate adversarial images to be fed into the ResNet50 model. Thereafter, the model classified them while the researchers gathered information regarding their performance."
      ],
      "metadata": {
        "id": "BTfWZ9DOOgbS"
      }
    },
    {
      "cell_type": "markdown",
      "source": [
        "## **3.5 Evaluation Metrics**"
      ],
      "metadata": {
        "id": "eaeZ2glENbbk"
      }
    },
    {
      "cell_type": "markdown",
      "source": [
        "In order to effectively assess the performance of the ResNet50 model against adversarial attacks, several metrics are calculated. The researchers also considered the type of machine learning task, specifically multi-class classification, in selecting the following parameters:\n",
        "- **Accuracy**: Measures the ratio of correctly classified cases to the total number of objects in the dataset (Evidently AI Team, n.d.). It is given by the following formula:\n",
        "  \n",
        "  $$ accuracy = \\frac{correct \\space predictions}{all \\space predictions}  \\times 100 $$\n",
        "  \n",
        "  Accuracy is inversely proportional to the effectiveness of the adversarial attack.\n",
        "\n",
        "- **Precision**: In a multi-class classification problem, precision is the percentage of cases that, out of all those that the model predicted to belong to a given class, were properly classified as such. Ultimately, it measures the ability of the model to correctly identify instances of a specific class (Evidently AI Team, n.d.). This is given by the formula:\n",
        "\n",
        "  $$ precision_{A}= \\frac{TP_{A}}{TP_{A}+FP_{A}} \\times 100  $$\n",
        "\n",
        "- **Recall**: In multi-class classification, recall refers to the percentage of a class's instances that the model successfully classified out of all the class's occurrences. Ultimately, recall measures the model's ability to identify all instances of a particular class (Evidently AI Team, n.d.). This is given by the formula:\n",
        "\n",
        "  $$ recall_{A} = \\frac{ TP_{A}}{TP_{A} + FN_{A}} \\times 100 $$\n",
        "\n",
        "- **F1-score**: This is a measure of a model's performance, representing the harmonic mean of precision and recall. By giving both precision and recall equal weight, the balance between these two can be indicated. A higher F1-score generally signifies a better balance between the two metrics, denoting better model effectiveness (Baeldung, 2024). This is given by the formula:\n",
        "\n",
        "  $$ F1_{Class A}= \\frac{2 \\times precision_{A} \\times recall_{A}}{precision_{A} + recall_{A}} \\times 100 $$\n",
        "\n",
        "- **Attack execution time**: To measure how fast and efficiently adversarial attacks generate images, the attack execution time is measured."
      ],
      "metadata": {
        "id": "RcLXt2oZSitJ"
      }
    },
    {
      "cell_type": "markdown",
      "metadata": {
        "id": "DCuVyHqQ341z"
      },
      "source": [
        "## **3.6 Procedure**\n"
      ]
    },
    {
      "cell_type": "markdown",
      "source": [
        "By utilizing various adversarial attack types from the torchattacks library, the researchers are able to evaluate and compare the performance of the classification model ResNet50 using several performance metrics. This study consisted of two steps: evaluating the model's performance without using torchattacks, and with torchattacks. All of these steps are done using Google Colab, GitHub and Python. This process is executed on a machine with the following specifications:\n",
        "- CPU - 11th Generation Intel(R) Core(TM) i5-11300H @3.10 GHz\n",
        "- Memory - 16 GB\n",
        "- Storage - 477 GB SSD NVMe Micron MTFDHBA512QFD\n",
        "- GPU 0 - Intel(R) Iris(R) Xe Graphics\n",
        "- GPU 1 - NVIDIA GeForce RTX 3050 Laptop GPU\n"
      ],
      "metadata": {
        "id": "Wvhh4cYMU1hS"
      }
    },
    {
      "cell_type": "markdown",
      "source": [
        "### **3.6.1 Image Classification without torchattacks**"
      ],
      "metadata": {
        "id": "2NSRTelDTWaf"
      }
    },
    {
      "cell_type": "markdown",
      "metadata": {
        "id": "r7DO3_acNvW9"
      },
      "source": [
        "#### 1. Install torchattacks"
      ]
    },
    {
      "cell_type": "code",
      "execution_count": null,
      "metadata": {
        "colab": {
          "base_uri": "https://localhost:8080/"
        },
        "collapsed": true,
        "id": "DNUCI_rUNvJN",
        "outputId": "420bb5ff-4df3-48ff-84b9-3638eb8d6ca8"
      },
      "outputs": [
        {
          "output_type": "stream",
          "name": "stdout",
          "text": [
            "Collecting torchattacks\n",
            "  Downloading torchattacks-3.5.1-py3-none-any.whl (142 kB)\n",
            "\u001b[2K     \u001b[90m━━━━━━━━━━━━━━━━━━━━━━━━━━━━━━━━━━━━━━━━\u001b[0m \u001b[32m142.0/142.0 kB\u001b[0m \u001b[31m1.4 MB/s\u001b[0m eta \u001b[36m0:00:00\u001b[0m\n",
            "\u001b[?25hRequirement already satisfied: torch>=1.7.1 in /usr/local/lib/python3.10/dist-packages (from torchattacks) (2.3.0+cu121)\n",
            "Requirement already satisfied: torchvision>=0.8.2 in /usr/local/lib/python3.10/dist-packages (from torchattacks) (0.18.0+cu121)\n",
            "Requirement already satisfied: scipy>=0.14.0 in /usr/local/lib/python3.10/dist-packages (from torchattacks) (1.11.4)\n",
            "Requirement already satisfied: tqdm>=4.56.1 in /usr/local/lib/python3.10/dist-packages (from torchattacks) (4.66.4)\n",
            "Collecting requests~=2.25.1 (from torchattacks)\n",
            "  Downloading requests-2.25.1-py2.py3-none-any.whl (61 kB)\n",
            "\u001b[2K     \u001b[90m━━━━━━━━━━━━━━━━━━━━━━━━━━━━━━━━━━━━━━━━\u001b[0m \u001b[32m61.2/61.2 kB\u001b[0m \u001b[31m5.5 MB/s\u001b[0m eta \u001b[36m0:00:00\u001b[0m\n",
            "\u001b[?25hRequirement already satisfied: numpy>=1.19.4 in /usr/local/lib/python3.10/dist-packages (from torchattacks) (1.25.2)\n",
            "Collecting chardet<5,>=3.0.2 (from requests~=2.25.1->torchattacks)\n",
            "  Downloading chardet-4.0.0-py2.py3-none-any.whl (178 kB)\n",
            "\u001b[2K     \u001b[90m━━━━━━━━━━━━━━━━━━━━━━━━━━━━━━━━━━━━━━━━\u001b[0m \u001b[32m178.7/178.7 kB\u001b[0m \u001b[31m5.0 MB/s\u001b[0m eta \u001b[36m0:00:00\u001b[0m\n",
            "\u001b[?25hCollecting idna<3,>=2.5 (from requests~=2.25.1->torchattacks)\n",
            "  Downloading idna-2.10-py2.py3-none-any.whl (58 kB)\n",
            "\u001b[2K     \u001b[90m━━━━━━━━━━━━━━━━━━━━━━━━━━━━━━━━━━━━━━━━\u001b[0m \u001b[32m58.8/58.8 kB\u001b[0m \u001b[31m4.9 MB/s\u001b[0m eta \u001b[36m0:00:00\u001b[0m\n",
            "\u001b[?25hCollecting urllib3<1.27,>=1.21.1 (from requests~=2.25.1->torchattacks)\n",
            "  Downloading urllib3-1.26.18-py2.py3-none-any.whl (143 kB)\n",
            "\u001b[2K     \u001b[90m━━━━━━━━━━━━━━━━━━━━━━━━━━━━━━━━━━━━━━━━\u001b[0m \u001b[32m143.8/143.8 kB\u001b[0m \u001b[31m14.4 MB/s\u001b[0m eta \u001b[36m0:00:00\u001b[0m\n",
            "\u001b[?25hRequirement already satisfied: certifi>=2017.4.17 in /usr/local/lib/python3.10/dist-packages (from requests~=2.25.1->torchattacks) (2024.6.2)\n",
            "Requirement already satisfied: filelock in /usr/local/lib/python3.10/dist-packages (from torch>=1.7.1->torchattacks) (3.14.0)\n",
            "Requirement already satisfied: typing-extensions>=4.8.0 in /usr/local/lib/python3.10/dist-packages (from torch>=1.7.1->torchattacks) (4.12.1)\n",
            "Requirement already satisfied: sympy in /usr/local/lib/python3.10/dist-packages (from torch>=1.7.1->torchattacks) (1.12.1)\n",
            "Requirement already satisfied: networkx in /usr/local/lib/python3.10/dist-packages (from torch>=1.7.1->torchattacks) (3.3)\n",
            "Requirement already satisfied: jinja2 in /usr/local/lib/python3.10/dist-packages (from torch>=1.7.1->torchattacks) (3.1.4)\n",
            "Requirement already satisfied: fsspec in /usr/local/lib/python3.10/dist-packages (from torch>=1.7.1->torchattacks) (2023.6.0)\n",
            "Collecting nvidia-cuda-nvrtc-cu12==12.1.105 (from torch>=1.7.1->torchattacks)\n",
            "  Using cached nvidia_cuda_nvrtc_cu12-12.1.105-py3-none-manylinux1_x86_64.whl (23.7 MB)\n",
            "Collecting nvidia-cuda-runtime-cu12==12.1.105 (from torch>=1.7.1->torchattacks)\n",
            "  Using cached nvidia_cuda_runtime_cu12-12.1.105-py3-none-manylinux1_x86_64.whl (823 kB)\n",
            "Collecting nvidia-cuda-cupti-cu12==12.1.105 (from torch>=1.7.1->torchattacks)\n",
            "  Using cached nvidia_cuda_cupti_cu12-12.1.105-py3-none-manylinux1_x86_64.whl (14.1 MB)\n",
            "Collecting nvidia-cudnn-cu12==8.9.2.26 (from torch>=1.7.1->torchattacks)\n",
            "  Using cached nvidia_cudnn_cu12-8.9.2.26-py3-none-manylinux1_x86_64.whl (731.7 MB)\n",
            "Collecting nvidia-cublas-cu12==12.1.3.1 (from torch>=1.7.1->torchattacks)\n",
            "  Using cached nvidia_cublas_cu12-12.1.3.1-py3-none-manylinux1_x86_64.whl (410.6 MB)\n",
            "Collecting nvidia-cufft-cu12==11.0.2.54 (from torch>=1.7.1->torchattacks)\n",
            "  Using cached nvidia_cufft_cu12-11.0.2.54-py3-none-manylinux1_x86_64.whl (121.6 MB)\n",
            "Collecting nvidia-curand-cu12==10.3.2.106 (from torch>=1.7.1->torchattacks)\n",
            "  Using cached nvidia_curand_cu12-10.3.2.106-py3-none-manylinux1_x86_64.whl (56.5 MB)\n",
            "Collecting nvidia-cusolver-cu12==11.4.5.107 (from torch>=1.7.1->torchattacks)\n",
            "  Using cached nvidia_cusolver_cu12-11.4.5.107-py3-none-manylinux1_x86_64.whl (124.2 MB)\n",
            "Collecting nvidia-cusparse-cu12==12.1.0.106 (from torch>=1.7.1->torchattacks)\n",
            "  Using cached nvidia_cusparse_cu12-12.1.0.106-py3-none-manylinux1_x86_64.whl (196.0 MB)\n",
            "Collecting nvidia-nccl-cu12==2.20.5 (from torch>=1.7.1->torchattacks)\n",
            "  Using cached nvidia_nccl_cu12-2.20.5-py3-none-manylinux2014_x86_64.whl (176.2 MB)\n",
            "Collecting nvidia-nvtx-cu12==12.1.105 (from torch>=1.7.1->torchattacks)\n",
            "  Using cached nvidia_nvtx_cu12-12.1.105-py3-none-manylinux1_x86_64.whl (99 kB)\n",
            "Requirement already satisfied: triton==2.3.0 in /usr/local/lib/python3.10/dist-packages (from torch>=1.7.1->torchattacks) (2.3.0)\n",
            "Collecting nvidia-nvjitlink-cu12 (from nvidia-cusolver-cu12==11.4.5.107->torch>=1.7.1->torchattacks)\n",
            "  Downloading nvidia_nvjitlink_cu12-12.5.40-py3-none-manylinux2014_x86_64.whl (21.3 MB)\n",
            "\u001b[2K     \u001b[90m━━━━━━━━━━━━━━━━━━━━━━━━━━━━━━━━━━━━━━━━\u001b[0m \u001b[32m21.3/21.3 MB\u001b[0m \u001b[31m40.1 MB/s\u001b[0m eta \u001b[36m0:00:00\u001b[0m\n",
            "\u001b[?25hRequirement already satisfied: pillow!=8.3.*,>=5.3.0 in /usr/local/lib/python3.10/dist-packages (from torchvision>=0.8.2->torchattacks) (9.4.0)\n",
            "Requirement already satisfied: MarkupSafe>=2.0 in /usr/local/lib/python3.10/dist-packages (from jinja2->torch>=1.7.1->torchattacks) (2.1.5)\n",
            "Requirement already satisfied: mpmath<1.4.0,>=1.1.0 in /usr/local/lib/python3.10/dist-packages (from sympy->torch>=1.7.1->torchattacks) (1.3.0)\n",
            "Installing collected packages: urllib3, nvidia-nvtx-cu12, nvidia-nvjitlink-cu12, nvidia-nccl-cu12, nvidia-curand-cu12, nvidia-cufft-cu12, nvidia-cuda-runtime-cu12, nvidia-cuda-nvrtc-cu12, nvidia-cuda-cupti-cu12, nvidia-cublas-cu12, idna, chardet, requests, nvidia-cusparse-cu12, nvidia-cudnn-cu12, nvidia-cusolver-cu12, torchattacks\n",
            "  Attempting uninstall: urllib3\n",
            "    Found existing installation: urllib3 2.0.7\n",
            "    Uninstalling urllib3-2.0.7:\n",
            "      Successfully uninstalled urllib3-2.0.7\n",
            "  Attempting uninstall: idna\n",
            "    Found existing installation: idna 3.7\n",
            "    Uninstalling idna-3.7:\n",
            "      Successfully uninstalled idna-3.7\n",
            "  Attempting uninstall: chardet\n",
            "    Found existing installation: chardet 5.2.0\n",
            "    Uninstalling chardet-5.2.0:\n",
            "      Successfully uninstalled chardet-5.2.0\n",
            "  Attempting uninstall: requests\n",
            "    Found existing installation: requests 2.31.0\n",
            "    Uninstalling requests-2.31.0:\n",
            "      Successfully uninstalled requests-2.31.0\n",
            "\u001b[31mERROR: pip's dependency resolver does not currently take into account all the packages that are installed. This behaviour is the source of the following dependency conflicts.\n",
            "bigframes 1.8.0 requires requests>=2.27.1, but you have requests 2.25.1 which is incompatible.\n",
            "google-colab 1.0.0 requires requests==2.31.0, but you have requests 2.25.1 which is incompatible.\n",
            "tweepy 4.14.0 requires requests<3,>=2.27.0, but you have requests 2.25.1 which is incompatible.\n",
            "yfinance 0.2.40 requires requests>=2.31, but you have requests 2.25.1 which is incompatible.\u001b[0m\u001b[31m\n",
            "\u001b[0mSuccessfully installed chardet-4.0.0 idna-2.10 nvidia-cublas-cu12-12.1.3.1 nvidia-cuda-cupti-cu12-12.1.105 nvidia-cuda-nvrtc-cu12-12.1.105 nvidia-cuda-runtime-cu12-12.1.105 nvidia-cudnn-cu12-8.9.2.26 nvidia-cufft-cu12-11.0.2.54 nvidia-curand-cu12-10.3.2.106 nvidia-cusolver-cu12-11.4.5.107 nvidia-cusparse-cu12-12.1.0.106 nvidia-nccl-cu12-2.20.5 nvidia-nvjitlink-cu12-12.5.40 nvidia-nvtx-cu12-12.1.105 requests-2.25.1 torchattacks-3.5.1 urllib3-1.26.18\n",
            "Cloning into 'cs199specialproject'...\n",
            "remote: Enumerating objects: 495, done.\u001b[K\n",
            "remote: Counting objects: 100% (495/495), done.\u001b[K\n",
            "remote: Compressing objects: 100% (478/478), done.\u001b[K\n",
            "remote: Total 495 (delta 28), reused 0 (delta 0), pack-reused 0\u001b[K\n",
            "Receiving objects: 100% (495/495), 242.66 MiB | 24.03 MiB/s, done.\n",
            "Resolving deltas: 100% (28/28), done.\n",
            "Updating files: 100% (257/257), done.\n"
          ]
        }
      ],
      "source": [
        "!pip install torchattacks\n",
        "\n",
        "# Clone the repository\n",
        "!git clone https://github.com/ansem7/cs199specialproject.git"
      ]
    },
    {
      "cell_type": "markdown",
      "metadata": {
        "id": "c4DTPvdAMfFo"
      },
      "source": [
        "#### 2. Import the necessary libraries:"
      ]
    },
    {
      "cell_type": "code",
      "execution_count": null,
      "metadata": {
        "collapsed": true,
        "id": "NEZM9AX6L4Hc"
      },
      "outputs": [],
      "source": [
        "import torch\n",
        "import torchvision\n",
        "import torch.nn as nn\n",
        "import torch.optim as optim\n",
        "import torchvision.transforms as transforms\n",
        "from torch.utils.data import DataLoader, ConcatDataset, TensorDataset\n",
        "from torchvision.models import resnet50\n",
        "from PIL import Image\n",
        "import matplotlib.pyplot as plt\n",
        "import numpy as np\n",
        "import json\n",
        "from torchvision import models, datasets, transforms\n",
        "from sklearn.metrics import accuracy_score, recall_score, f1_score, precision_score\n",
        "from torchattacks import FGSM, PGD, CW, PGDL2, NIFGSM, Pixle, SINIFGSM, VMIFGSM, VNIFGSM, LGV\n",
        "import os\n",
        "import time\n",
        "from google.colab import drive, files\n",
        "import shutil\n",
        "from torchvision.utils import save_image"
      ]
    },
    {
      "cell_type": "markdown",
      "metadata": {
        "id": "3QoS636UN7k_"
      },
      "source": [
        "#### 3. Load the pretrained ResNet50 model:"
      ]
    },
    {
      "cell_type": "code",
      "execution_count": null,
      "metadata": {
        "colab": {
          "base_uri": "https://localhost:8080/"
        },
        "id": "25ksUuQsMm-n",
        "outputId": "83761556-3237-4232-86ac-5a7c5606b785"
      },
      "outputs": [
        {
          "output_type": "stream",
          "name": "stderr",
          "text": [
            "/usr/local/lib/python3.10/dist-packages/torchvision/models/_utils.py:208: UserWarning: The parameter 'pretrained' is deprecated since 0.13 and may be removed in the future, please use 'weights' instead.\n",
            "  warnings.warn(\n",
            "/usr/local/lib/python3.10/dist-packages/torchvision/models/_utils.py:223: UserWarning: Arguments other than a weight enum or `None` for 'weights' are deprecated since 0.13 and may be removed in the future. The current behavior is equivalent to passing `weights=ResNet50_Weights.IMAGENET1K_V1`. You can also use `weights=ResNet50_Weights.DEFAULT` to get the most up-to-date weights.\n",
            "  warnings.warn(msg)\n",
            "Downloading: \"https://download.pytorch.org/models/resnet50-0676ba61.pth\" to /root/.cache/torch/hub/checkpoints/resnet50-0676ba61.pth\n",
            "100%|██████████| 97.8M/97.8M [00:00<00:00, 131MB/s]\n"
          ]
        }
      ],
      "source": [
        "model = resnet50(pretrained=True).eval()"
      ]
    },
    {
      "cell_type": "markdown",
      "metadata": {
        "id": "ABV5dSvaOBEE"
      },
      "source": [
        "#### 4. Define the transformation for your image:"
      ]
    },
    {
      "cell_type": "code",
      "execution_count": null,
      "metadata": {
        "id": "TqX_RRGoODN0"
      },
      "outputs": [],
      "source": [
        "transform = transforms.Compose([\n",
        "    transforms.Lambda(lambda img: img.convert('RGB') if img.mode != 'RGB' else img),  # Convert image to RGB if it's not\n",
        "    transforms.Resize((224, 224)),  # Resize images to 224x224\n",
        "    transforms.ToTensor(),\n",
        "    transforms.Normalize(mean=[0.485, 0.456, 0.406], std=[0.229, 0.224, 0.225]),\n",
        "])"
      ]
    },
    {
      "cell_type": "markdown",
      "metadata": {
        "id": "Cxs3SZFuOG0B"
      },
      "source": [
        "#### 5. Load your images"
      ]
    },
    {
      "cell_type": "code",
      "execution_count": null,
      "metadata": {
        "id": "gKxxM8SgOIdS"
      },
      "outputs": [],
      "source": [
        "# Path to the images\n",
        "image_path = '/content/cs199specialproject/images/sampled_dataset'\n",
        "\n",
        "# Load images from the directory\n",
        "image_folder = datasets.ImageFolder(image_path, transform=transform)\n",
        "\n",
        "# Create a data loader\n",
        "image_loader = torch.utils.data.DataLoader(image_folder, batch_size=32)"
      ]
    },
    {
      "cell_type": "markdown",
      "metadata": {
        "id": "HMTE-mPSOYIn"
      },
      "source": [
        "#### 6. Classify the images and calculate the performance parameters\n",
        "This includes the robust accuracy, precision, recall, and F1-score of the ResNet50 model after feeding the resulting images of the adversarial attack."
      ]
    },
    {
      "cell_type": "code",
      "execution_count": null,
      "metadata": {
        "colab": {
          "base_uri": "https://localhost:8080/"
        },
        "id": "0BQo_KwsOZuh",
        "collapsed": true,
        "outputId": "36387200-8dd7-48e7-b59d-c6ba40fb6a10"
      },
      "outputs": [
        {
          "output_type": "stream",
          "name": "stdout",
          "text": [
            "Predicted labels: ['strawberry', 'banana', 'jersey', 'banana', 'web_site', 'bell_pepper', 'bell_pepper', 'bell_pepper', 'bell_pepper', 'cauliflower', 'cauliflower', 'cauliflower', 'cauliflower', 'cauliflower', 'cauliflower', 'cauliflower', 'cauliflower', 'ear', 'ear', 'ear', 'ear', 'cucumber', 'cucumber', 'cucumber', 'zucchini', 'cucumber', 'cucumber', 'cucumber', 'head_cabbage', 'head_cabbage', 'head_cabbage', 'head_cabbage', 'head_cabbage', 'head_cabbage', 'banana', 'banana', 'banana', 'banana', 'banana', 'banana', 'lemon', 'lemon', 'lemon', 'lemon', 'orange', 'pineapple', 'pineapple', 'pomegranate', 'pomegranate', 'pomegranate']\n",
            "Actual labels: ['Granny_Smith', 'banana', 'banana', 'banana', 'banana', 'bell_pepper', 'bell_pepper', 'bell_pepper', 'bell_pepper', 'cauliflower', 'cauliflower', 'cauliflower', 'cauliflower', 'cauliflower', 'cauliflower', 'cauliflower', 'cauliflower', 'corn', 'corn', 'corn', 'corn', 'cucumber', 'cucumber', 'cucumber', 'cucumber', 'cucumber', 'cucumber', 'cucumber', 'head_cabbage', 'head_cabbage', 'head_cabbage', 'head_cabbage', 'head_cabbage', 'head_cabbage', 'kiwi', 'kiwi', 'kiwi', 'kiwi', 'kiwi', 'kiwi', 'lemon', 'lemon', 'lemon', 'lemon', 'orange', 'pineapple', 'pineapple', 'pomegranate', 'pomegranate', 'pomegranate']\n",
            "\n",
            "Accuracy: 72.0%\n",
            "Precision: 48.53%\n",
            "Recall: 49.16%\n",
            "F1 Score: 48.57%\n"
          ]
        },
        {
          "output_type": "stream",
          "name": "stderr",
          "text": [
            "/usr/local/lib/python3.10/dist-packages/sklearn/metrics/_classification.py:1344: UndefinedMetricWarning: Precision is ill-defined and being set to 0.0 in labels with no predicted samples. Use `zero_division` parameter to control this behavior.\n",
            "  _warn_prf(average, modifier, msg_start, len(result))\n",
            "/usr/local/lib/python3.10/dist-packages/sklearn/metrics/_classification.py:1344: UndefinedMetricWarning: Recall is ill-defined and being set to 0.0 in labels with no true samples. Use `zero_division` parameter to control this behavior.\n",
            "  _warn_prf(average, modifier, msg_start, len(result))\n"
          ]
        }
      ],
      "source": [
        "# Load the ImageNet class index file\n",
        "with open('/content/cs199specialproject/imagenet_class_index.json') as f:\n",
        "    class_idx = json.load(f)\n",
        "\n",
        "def get_label_name(index):\n",
        "      return class_idx[f\"{index}\"]\n",
        "\n",
        "predicted_labels = []\n",
        "true_labels = []\n",
        "\n",
        "# Iterate over the images\n",
        "for i, (images, labels) in enumerate(image_loader):\n",
        "    # Pass the images through the model\n",
        "    outputs = model(images)\n",
        "\n",
        "    # Get the predicted labels\n",
        "    _, preds = torch.max(outputs, 1)\n",
        "\n",
        "    # Convert the predicted labels to their classification names\n",
        "    predicted_labels_names = [get_label_name(label)[1] for label in preds.tolist()]\n",
        "\n",
        "    # Convert the true labels to their classification names\n",
        "    true_labels_names = [image_loader.dataset.classes[label] for label in labels.tolist()]\n",
        "\n",
        "    predicted_labels.extend(predicted_labels_names)\n",
        "    true_labels.extend(true_labels_names)\n",
        "\n",
        "print(f\"Predicted labels: {predicted_labels}\")\n",
        "print(f\"Actual labels: {true_labels}\")\n",
        "print()\n",
        "\n",
        "\n",
        "accuracy = accuracy_score(true_labels, predicted_labels)\n",
        "print(f'Accuracy: {round(accuracy * 100, 2)}%')\n",
        "precision = precision_score(true_labels, predicted_labels, average='macro')\n",
        "print(f'Precision: {round(precision * 100, 2)}%')\n",
        "recall = recall_score(true_labels, predicted_labels, average='macro')\n",
        "print(f'Recall: {round(recall * 100, 2)}%')\n",
        "f1 = f1_score(true_labels, predicted_labels, average='macro')\n",
        "print(f'F1 Score: {round(f1 * 100, 2)}%')"
      ]
    },
    {
      "cell_type": "markdown",
      "source": [
        "### **3.6.2 Image Classification with torchattacks**"
      ],
      "metadata": {
        "id": "RO0u5G26Wode"
      }
    },
    {
      "cell_type": "markdown",
      "metadata": {
        "id": "Rn8F7HafWods"
      },
      "source": [
        "#### 1. Install torchattacks"
      ]
    },
    {
      "cell_type": "code",
      "execution_count": null,
      "metadata": {
        "colab": {
          "base_uri": "https://localhost:8080/"
        },
        "collapsed": true,
        "outputId": "7f70b4dd-76d4-47c2-874e-5331b17a6c6b",
        "id": "EsVOigh9Wods"
      },
      "outputs": [
        {
          "output_type": "stream",
          "name": "stdout",
          "text": [
            "Requirement already satisfied: torchattacks in /usr/local/lib/python3.10/dist-packages (3.5.1)\n",
            "Requirement already satisfied: torch>=1.7.1 in /usr/local/lib/python3.10/dist-packages (from torchattacks) (2.3.0+cu121)\n",
            "Requirement already satisfied: torchvision>=0.8.2 in /usr/local/lib/python3.10/dist-packages (from torchattacks) (0.18.0+cu121)\n",
            "Requirement already satisfied: scipy>=0.14.0 in /usr/local/lib/python3.10/dist-packages (from torchattacks) (1.11.4)\n",
            "Requirement already satisfied: tqdm>=4.56.1 in /usr/local/lib/python3.10/dist-packages (from torchattacks) (4.66.4)\n",
            "Requirement already satisfied: requests~=2.25.1 in /usr/local/lib/python3.10/dist-packages (from torchattacks) (2.25.1)\n",
            "Requirement already satisfied: numpy>=1.19.4 in /usr/local/lib/python3.10/dist-packages (from torchattacks) (1.25.2)\n",
            "Requirement already satisfied: chardet<5,>=3.0.2 in /usr/local/lib/python3.10/dist-packages (from requests~=2.25.1->torchattacks) (4.0.0)\n",
            "Requirement already satisfied: idna<3,>=2.5 in /usr/local/lib/python3.10/dist-packages (from requests~=2.25.1->torchattacks) (2.10)\n",
            "Requirement already satisfied: urllib3<1.27,>=1.21.1 in /usr/local/lib/python3.10/dist-packages (from requests~=2.25.1->torchattacks) (1.26.18)\n",
            "Requirement already satisfied: certifi>=2017.4.17 in /usr/local/lib/python3.10/dist-packages (from requests~=2.25.1->torchattacks) (2024.6.2)\n",
            "Requirement already satisfied: filelock in /usr/local/lib/python3.10/dist-packages (from torch>=1.7.1->torchattacks) (3.14.0)\n",
            "Requirement already satisfied: typing-extensions>=4.8.0 in /usr/local/lib/python3.10/dist-packages (from torch>=1.7.1->torchattacks) (4.12.1)\n",
            "Requirement already satisfied: sympy in /usr/local/lib/python3.10/dist-packages (from torch>=1.7.1->torchattacks) (1.12.1)\n",
            "Requirement already satisfied: networkx in /usr/local/lib/python3.10/dist-packages (from torch>=1.7.1->torchattacks) (3.3)\n",
            "Requirement already satisfied: jinja2 in /usr/local/lib/python3.10/dist-packages (from torch>=1.7.1->torchattacks) (3.1.4)\n",
            "Requirement already satisfied: fsspec in /usr/local/lib/python3.10/dist-packages (from torch>=1.7.1->torchattacks) (2023.6.0)\n",
            "Requirement already satisfied: nvidia-cuda-nvrtc-cu12==12.1.105 in /usr/local/lib/python3.10/dist-packages (from torch>=1.7.1->torchattacks) (12.1.105)\n",
            "Requirement already satisfied: nvidia-cuda-runtime-cu12==12.1.105 in /usr/local/lib/python3.10/dist-packages (from torch>=1.7.1->torchattacks) (12.1.105)\n",
            "Requirement already satisfied: nvidia-cuda-cupti-cu12==12.1.105 in /usr/local/lib/python3.10/dist-packages (from torch>=1.7.1->torchattacks) (12.1.105)\n",
            "Requirement already satisfied: nvidia-cudnn-cu12==8.9.2.26 in /usr/local/lib/python3.10/dist-packages (from torch>=1.7.1->torchattacks) (8.9.2.26)\n",
            "Requirement already satisfied: nvidia-cublas-cu12==12.1.3.1 in /usr/local/lib/python3.10/dist-packages (from torch>=1.7.1->torchattacks) (12.1.3.1)\n",
            "Requirement already satisfied: nvidia-cufft-cu12==11.0.2.54 in /usr/local/lib/python3.10/dist-packages (from torch>=1.7.1->torchattacks) (11.0.2.54)\n",
            "Requirement already satisfied: nvidia-curand-cu12==10.3.2.106 in /usr/local/lib/python3.10/dist-packages (from torch>=1.7.1->torchattacks) (10.3.2.106)\n",
            "Requirement already satisfied: nvidia-cusolver-cu12==11.4.5.107 in /usr/local/lib/python3.10/dist-packages (from torch>=1.7.1->torchattacks) (11.4.5.107)\n",
            "Requirement already satisfied: nvidia-cusparse-cu12==12.1.0.106 in /usr/local/lib/python3.10/dist-packages (from torch>=1.7.1->torchattacks) (12.1.0.106)\n",
            "Requirement already satisfied: nvidia-nccl-cu12==2.20.5 in /usr/local/lib/python3.10/dist-packages (from torch>=1.7.1->torchattacks) (2.20.5)\n",
            "Requirement already satisfied: nvidia-nvtx-cu12==12.1.105 in /usr/local/lib/python3.10/dist-packages (from torch>=1.7.1->torchattacks) (12.1.105)\n",
            "Requirement already satisfied: triton==2.3.0 in /usr/local/lib/python3.10/dist-packages (from torch>=1.7.1->torchattacks) (2.3.0)\n",
            "Requirement already satisfied: nvidia-nvjitlink-cu12 in /usr/local/lib/python3.10/dist-packages (from nvidia-cusolver-cu12==11.4.5.107->torch>=1.7.1->torchattacks) (12.5.40)\n",
            "Requirement already satisfied: pillow!=8.3.*,>=5.3.0 in /usr/local/lib/python3.10/dist-packages (from torchvision>=0.8.2->torchattacks) (9.4.0)\n",
            "Requirement already satisfied: MarkupSafe>=2.0 in /usr/local/lib/python3.10/dist-packages (from jinja2->torch>=1.7.1->torchattacks) (2.1.5)\n",
            "Requirement already satisfied: mpmath<1.4.0,>=1.1.0 in /usr/local/lib/python3.10/dist-packages (from sympy->torch>=1.7.1->torchattacks) (1.3.0)\n",
            "fatal: destination path 'cs199specialproject' already exists and is not an empty directory.\n"
          ]
        }
      ],
      "source": [
        "!pip install torchattacks\n",
        "\n",
        "# Clone the repository\n",
        "!git clone https://github.com/ansem7/cs199specialproject.git"
      ]
    },
    {
      "cell_type": "markdown",
      "metadata": {
        "id": "GUE-Q2gDWodt"
      },
      "source": [
        "#### 2. Import the necessary libraries:"
      ]
    },
    {
      "cell_type": "code",
      "execution_count": null,
      "metadata": {
        "collapsed": true,
        "id": "nj913OgEWodt"
      },
      "outputs": [],
      "source": [
        "import torch\n",
        "import torchvision\n",
        "import torch.nn as nn\n",
        "import torch.optim as optim\n",
        "import torchvision.transforms as transforms\n",
        "from torch.utils.data import DataLoader, ConcatDataset, TensorDataset\n",
        "from torchvision.models import resnet50\n",
        "from PIL import Image\n",
        "import matplotlib.pyplot as plt\n",
        "import numpy as np\n",
        "import json\n",
        "from torchvision import models, datasets, transforms\n",
        "from sklearn.metrics import accuracy_score, recall_score, f1_score, precision_score\n",
        "from torchattacks import FGSM, PGD, CW, PGDL2, NIFGSM, Pixle, SINIFGSM, VMIFGSM, VNIFGSM, LGV\n",
        "import os\n",
        "import time\n",
        "from google.colab import drive, files\n",
        "import shutil\n",
        "from torchvision.utils import save_image"
      ]
    },
    {
      "cell_type": "markdown",
      "metadata": {
        "id": "zYjCYqdbWodt"
      },
      "source": [
        "#### 3. Load the pretrained ResNet50 model:"
      ]
    },
    {
      "cell_type": "code",
      "execution_count": null,
      "metadata": {
        "colab": {
          "base_uri": "https://localhost:8080/"
        },
        "outputId": "46a45b57-ae9b-46f0-c7b8-3a011fdc2eca",
        "id": "UFHNOasAWodt"
      },
      "outputs": [
        {
          "output_type": "stream",
          "name": "stderr",
          "text": [
            "/usr/local/lib/python3.10/dist-packages/torchvision/models/_utils.py:208: UserWarning: The parameter 'pretrained' is deprecated since 0.13 and may be removed in the future, please use 'weights' instead.\n",
            "  warnings.warn(\n",
            "/usr/local/lib/python3.10/dist-packages/torchvision/models/_utils.py:223: UserWarning: Arguments other than a weight enum or `None` for 'weights' are deprecated since 0.13 and may be removed in the future. The current behavior is equivalent to passing `weights=ResNet50_Weights.IMAGENET1K_V1`. You can also use `weights=ResNet50_Weights.DEFAULT` to get the most up-to-date weights.\n",
            "  warnings.warn(msg)\n"
          ]
        }
      ],
      "source": [
        "model = resnet50(pretrained=True).eval()"
      ]
    },
    {
      "cell_type": "markdown",
      "metadata": {
        "id": "xpifT7ldWodt"
      },
      "source": [
        "#### 4. Define the transformation for your image:"
      ]
    },
    {
      "cell_type": "code",
      "execution_count": null,
      "metadata": {
        "id": "yIeTpEAuWodt"
      },
      "outputs": [],
      "source": [
        "transform = transforms.Compose([\n",
        "    transforms.Lambda(lambda img: img.convert('RGB') if img.mode != 'RGB' else img),  # Convert image to RGB if it's not\n",
        "    transforms.Resize((224, 224)),  # Resize images to 224x224\n",
        "    transforms.ToTensor(),\n",
        "    transforms.Normalize(mean=[0.485, 0.456, 0.406], std=[0.229, 0.224, 0.225]),\n",
        "])"
      ]
    },
    {
      "cell_type": "markdown",
      "metadata": {
        "id": "QPVwUEJPWodt"
      },
      "source": [
        "#### 5. Load your images"
      ]
    },
    {
      "cell_type": "code",
      "execution_count": null,
      "metadata": {
        "id": "qYrFuY2mWodt"
      },
      "outputs": [],
      "source": [
        "# Path to the images\n",
        "image_path = '/content/cs199specialproject/images/sampled_dataset'\n",
        "\n",
        "# Load images from the directory\n",
        "image_folder = datasets.ImageFolder(image_path, transform=transform)\n",
        "\n",
        "# Create a data loader\n",
        "image_loader = torch.utils.data.DataLoader(image_folder, batch_size=32)"
      ]
    },
    {
      "cell_type": "markdown",
      "metadata": {
        "id": "wIWPlK2LWodu"
      },
      "source": [
        "#### 6. Create instances of the chosen attacks"
      ]
    },
    {
      "cell_type": "code",
      "execution_count": null,
      "metadata": {
        "id": "1QlmqIHcWodu"
      },
      "outputs": [],
      "source": [
        "attacks = {\n",
        "    'FGSM': FGSM(model, eps=0.3),\n",
        "    'PGD': PGD(model, eps=8/255, alpha=2/255, steps=2),\n",
        "    'CW': CW(model, c=1, kappa=0, steps=2, lr=0.01),\n",
        "    'PGDL2': PGDL2(model, eps=0.3, alpha=0.01, steps=2),\n",
        "    'NIFGSM': NIFGSM(model, eps=0.2),\n",
        "    'Pixle': Pixle(model, x_dimensions=(2, 10), y_dimensions=(2, 10),\n",
        "                   pixel_mapping='random', restarts=20, max_iterations=10, update_each_iteration=False),\n",
        "    'SINIFGSM': SINIFGSM(model, eps=8/255, alpha=2/255, steps=2, decay=1.0, m=5),\n",
        "    'VMIFGSM': VMIFGSM(model, eps=8/255, alpha=2/255, steps=2, decay=1.0),\n",
        "    'VNIFGSM': VNIFGSM(model, eps=8/255, alpha=2/255, steps=2, decay=1.0, N=5, beta=3/2)\n",
        "}"
      ]
    },
    {
      "cell_type": "markdown",
      "metadata": {
        "id": "NJNm6G3HWodu"
      },
      "source": [
        "#### 7. Apply the attack to your image and calculate the performance parameters\n",
        "This includes the robust accuracy, precision, recall, and F1-score of the ResNet50 model after feeding the resulting images of the adversarial attack."
      ]
    },
    {
      "cell_type": "code",
      "execution_count": null,
      "metadata": {
        "colab": {
          "base_uri": "https://localhost:8080/"
        },
        "outputId": "4f8738d2-d56a-4570-aadc-b8f19e881860",
        "id": "pPG570ZaWodu"
      },
      "outputs": [
        {
          "output_type": "stream",
          "name": "stdout",
          "text": [
            "\n",
            "Running FGSM attack\n",
            "The FGSM attack took 28.97 sec to complete.\n",
            "Predicted labels: ['nematode', 'banana', 'envelope', 'bib', 'envelope', 'brain_coral', 'tray', 'tray', 'brain_coral', 'envelope', 'cauliflower', 'cauliflower', 'tray', 'tray', 'envelope', 'tray', 'Indian_elephant', 'book_jacket', 'envelope', 'handkerchief', 'ear', 'sea_cucumber', 'lacewing', 'African_chameleon', 'velvet', 'African_chameleon', 'African_chameleon', 'stole', 'maze', 'spider_web', 'handkerchief', 'shower_curtain', 'head_cabbage', 'pillow', 'sea_anemone', 'brain_coral', 'brain_coral', 'shower_cap', 'tray', 'brain_coral', 'envelope', 'tray', 'lemon', 'envelope', 'orange', 'tray', 'pineapple', 'chiton', 'tray', 'book_jacket']\n",
            "Actual labels: ['Granny_Smith', 'banana', 'banana', 'banana', 'banana', 'bell_pepper', 'bell_pepper', 'bell_pepper', 'bell_pepper', 'cauliflower', 'cauliflower', 'cauliflower', 'cauliflower', 'cauliflower', 'cauliflower', 'cauliflower', 'cauliflower', 'corn', 'corn', 'corn', 'corn', 'cucumber', 'cucumber', 'cucumber', 'cucumber', 'cucumber', 'cucumber', 'cucumber', 'head_cabbage', 'head_cabbage', 'head_cabbage', 'head_cabbage', 'head_cabbage', 'head_cabbage', 'kiwi', 'kiwi', 'kiwi', 'kiwi', 'kiwi', 'kiwi', 'lemon', 'lemon', 'lemon', 'lemon', 'orange', 'pineapple', 'pineapple', 'pomegranate', 'pomegranate', 'pomegranate']\n",
            "\n",
            "Accuracy: 14.0%\n",
            "Precision: 18.18%\n",
            "Recall: 7.32%\n",
            "F1 Score: 9.55%\n",
            "\n",
            "Running PGD attack\n"
          ]
        },
        {
          "output_type": "stream",
          "name": "stderr",
          "text": [
            "/usr/local/lib/python3.10/dist-packages/sklearn/metrics/_classification.py:1344: UndefinedMetricWarning: Precision is ill-defined and being set to 0.0 in labels with no predicted samples. Use `zero_division` parameter to control this behavior.\n",
            "  _warn_prf(average, modifier, msg_start, len(result))\n",
            "/usr/local/lib/python3.10/dist-packages/sklearn/metrics/_classification.py:1344: UndefinedMetricWarning: Recall is ill-defined and being set to 0.0 in labels with no true samples. Use `zero_division` parameter to control this behavior.\n",
            "  _warn_prf(average, modifier, msg_start, len(result))\n"
          ]
        },
        {
          "output_type": "stream",
          "name": "stdout",
          "text": [
            "The PGD attack took 44.32 sec to complete.\n",
            "Predicted labels: ['mouse', 'banana', 'laptop', 'banana', 'envelope', 'bell_pepper', 'bell_pepper', 'tray', 'bell_pepper', 'cauliflower', 'cauliflower', 'cauliflower', 'cauliflower', 'cauliflower', 'cauliflower', 'cauliflower', 'cauliflower', 'cockroach', 'ear', 'ear', 'bath_towel', 'cucumber', 'nematode', 'cucumber', 'nematode', 'hair_slide', 'African_chameleon', 'cucumber', 'head_cabbage', 'head_cabbage', 'head_cabbage', 'head_cabbage', 'head_cabbage', 'head_cabbage', 'tennis_ball', 'brain_coral', 'lemon', 'shower_cap', 'hair_slide', 'orange', 'envelope', 'tray', 'lemon', 'lemon', 'lemon', 'pineapple', 'pineapple', 'chiton', 'book_jacket', 'jellyfish']\n",
            "Actual labels: ['Granny_Smith', 'banana', 'banana', 'banana', 'banana', 'bell_pepper', 'bell_pepper', 'bell_pepper', 'bell_pepper', 'cauliflower', 'cauliflower', 'cauliflower', 'cauliflower', 'cauliflower', 'cauliflower', 'cauliflower', 'cauliflower', 'corn', 'corn', 'corn', 'corn', 'cucumber', 'cucumber', 'cucumber', 'cucumber', 'cucumber', 'cucumber', 'cucumber', 'head_cabbage', 'head_cabbage', 'head_cabbage', 'head_cabbage', 'head_cabbage', 'head_cabbage', 'kiwi', 'kiwi', 'kiwi', 'kiwi', 'kiwi', 'kiwi', 'lemon', 'lemon', 'lemon', 'lemon', 'orange', 'pineapple', 'pineapple', 'pomegranate', 'pomegranate', 'pomegranate']\n",
            "\n",
            "Accuracy: 52.0%\n",
            "Precision: 23.21%\n",
            "Recall: 18.49%\n",
            "F1 Score: 20.09%\n",
            "\n",
            "Running CW attack\n"
          ]
        },
        {
          "output_type": "stream",
          "name": "stderr",
          "text": [
            "/usr/local/lib/python3.10/dist-packages/sklearn/metrics/_classification.py:1344: UndefinedMetricWarning: Precision is ill-defined and being set to 0.0 in labels with no predicted samples. Use `zero_division` parameter to control this behavior.\n",
            "  _warn_prf(average, modifier, msg_start, len(result))\n",
            "/usr/local/lib/python3.10/dist-packages/sklearn/metrics/_classification.py:1344: UndefinedMetricWarning: Recall is ill-defined and being set to 0.0 in labels with no true samples. Use `zero_division` parameter to control this behavior.\n",
            "  _warn_prf(average, modifier, msg_start, len(result))\n"
          ]
        },
        {
          "output_type": "stream",
          "name": "stdout",
          "text": [
            "The CW attack took 73.67 sec to complete.\n",
            "Predicted labels: ['mouse', 'banana', 'laptop', 'banana', 'envelope', 'bell_pepper', 'bell_pepper', 'tray', 'bell_pepper', 'cauliflower', 'cauliflower', 'cauliflower', 'cauliflower', 'cauliflower', 'cauliflower', 'cauliflower', 'cauliflower', 'book_jacket', 'ear', 'ear', 'handkerchief', 'cucumber', 'nematode', 'whistle', 'nematode', 'hair_slide', 'African_chameleon', 'cucumber', 'head_cabbage', 'head_cabbage', 'head_cabbage', 'head_cabbage', 'head_cabbage', 'head_cabbage', 'maraca', 'brain_coral', 'lemon', 'shower_cap', 'hair_slide', 'orange', 'envelope', 'tray', 'lemon', 'lemon', 'lemon', 'pineapple', 'pineapple', 'chiton', 'book_jacket', 'mushroom']\n",
            "Actual labels: ['Granny_Smith', 'banana', 'banana', 'banana', 'banana', 'bell_pepper', 'bell_pepper', 'bell_pepper', 'bell_pepper', 'cauliflower', 'cauliflower', 'cauliflower', 'cauliflower', 'cauliflower', 'cauliflower', 'cauliflower', 'cauliflower', 'corn', 'corn', 'corn', 'corn', 'cucumber', 'cucumber', 'cucumber', 'cucumber', 'cucumber', 'cucumber', 'cucumber', 'head_cabbage', 'head_cabbage', 'head_cabbage', 'head_cabbage', 'head_cabbage', 'head_cabbage', 'kiwi', 'kiwi', 'kiwi', 'kiwi', 'kiwi', 'kiwi', 'lemon', 'lemon', 'lemon', 'lemon', 'orange', 'pineapple', 'pineapple', 'pomegranate', 'pomegranate', 'pomegranate']\n",
            "\n",
            "Accuracy: 50.0%\n",
            "Precision: 23.21%\n",
            "Recall: 17.98%\n",
            "F1 Score: 19.53%\n",
            "\n",
            "Running PGDL2 attack\n"
          ]
        },
        {
          "output_type": "stream",
          "name": "stderr",
          "text": [
            "/usr/local/lib/python3.10/dist-packages/sklearn/metrics/_classification.py:1344: UndefinedMetricWarning: Precision is ill-defined and being set to 0.0 in labels with no predicted samples. Use `zero_division` parameter to control this behavior.\n",
            "  _warn_prf(average, modifier, msg_start, len(result))\n",
            "/usr/local/lib/python3.10/dist-packages/sklearn/metrics/_classification.py:1344: UndefinedMetricWarning: Recall is ill-defined and being set to 0.0 in labels with no true samples. Use `zero_division` parameter to control this behavior.\n",
            "  _warn_prf(average, modifier, msg_start, len(result))\n"
          ]
        },
        {
          "output_type": "stream",
          "name": "stdout",
          "text": [
            "The PGDL2 attack took 48.6 sec to complete.\n",
            "Predicted labels: ['mouse', 'banana', 'laptop', 'banana', 'envelope', 'bell_pepper', 'bell_pepper', 'tray', 'bell_pepper', 'cauliflower', 'cauliflower', 'cauliflower', 'cauliflower', 'cauliflower', 'cauliflower', 'cauliflower', 'cauliflower', 'book_jacket', 'ear', 'ear', 'handkerchief', 'cucumber', 'nematode', 'whistle', 'nematode', 'hair_slide', 'African_chameleon', 'cucumber', 'head_cabbage', 'head_cabbage', 'head_cabbage', 'head_cabbage', 'head_cabbage', 'head_cabbage', 'maraca', 'brain_coral', 'lemon', 'shower_cap', 'hair_slide', 'orange', 'envelope', 'tray', 'lemon', 'lemon', 'lemon', 'pineapple', 'pineapple', 'chiton', 'book_jacket', 'mushroom']\n",
            "Actual labels: ['Granny_Smith', 'banana', 'banana', 'banana', 'banana', 'bell_pepper', 'bell_pepper', 'bell_pepper', 'bell_pepper', 'cauliflower', 'cauliflower', 'cauliflower', 'cauliflower', 'cauliflower', 'cauliflower', 'cauliflower', 'cauliflower', 'corn', 'corn', 'corn', 'corn', 'cucumber', 'cucumber', 'cucumber', 'cucumber', 'cucumber', 'cucumber', 'cucumber', 'head_cabbage', 'head_cabbage', 'head_cabbage', 'head_cabbage', 'head_cabbage', 'head_cabbage', 'kiwi', 'kiwi', 'kiwi', 'kiwi', 'kiwi', 'kiwi', 'lemon', 'lemon', 'lemon', 'lemon', 'orange', 'pineapple', 'pineapple', 'pomegranate', 'pomegranate', 'pomegranate']\n",
            "\n",
            "Accuracy: 50.0%\n",
            "Precision: 23.21%\n",
            "Recall: 17.98%\n",
            "F1 Score: 19.53%\n",
            "\n",
            "Running NIFGSM attack\n"
          ]
        },
        {
          "output_type": "stream",
          "name": "stderr",
          "text": [
            "/usr/local/lib/python3.10/dist-packages/sklearn/metrics/_classification.py:1344: UndefinedMetricWarning: Precision is ill-defined and being set to 0.0 in labels with no predicted samples. Use `zero_division` parameter to control this behavior.\n",
            "  _warn_prf(average, modifier, msg_start, len(result))\n",
            "/usr/local/lib/python3.10/dist-packages/sklearn/metrics/_classification.py:1344: UndefinedMetricWarning: Recall is ill-defined and being set to 0.0 in labels with no true samples. Use `zero_division` parameter to control this behavior.\n",
            "  _warn_prf(average, modifier, msg_start, len(result))\n"
          ]
        },
        {
          "output_type": "stream",
          "name": "stdout",
          "text": [
            "The NIFGSM attack took 236.56 sec to complete.\n",
            "Predicted labels: ['mouse', 'banana', 'laptop', 'banana', 'envelope', 'bell_pepper', 'bell_pepper', 'tray', 'bell_pepper', 'cauliflower', 'cauliflower', 'cauliflower', 'cauliflower', 'cauliflower', 'cauliflower', 'cauliflower', 'cauliflower', 'cockroach', 'ear', 'ear', 'bath_towel', 'cucumber', 'nematode', 'cucumber', 'bassinet', 'green_mamba', 'tennis_ball', 'cucumber', 'head_cabbage', 'head_cabbage', 'head_cabbage', 'head_cabbage', 'head_cabbage', 'head_cabbage', 'tennis_ball', 'brain_coral', 'lemon', 'shower_cap', 'lemon', 'lemon', 'envelope', 'lemon', 'lemon', 'lemon', 'lemon', 'pineapple', 'pineapple', 'chiton', 'tray', 'jellyfish']\n",
            "Actual labels: ['Granny_Smith', 'banana', 'banana', 'banana', 'banana', 'bell_pepper', 'bell_pepper', 'bell_pepper', 'bell_pepper', 'cauliflower', 'cauliflower', 'cauliflower', 'cauliflower', 'cauliflower', 'cauliflower', 'cauliflower', 'cauliflower', 'corn', 'corn', 'corn', 'corn', 'cucumber', 'cucumber', 'cucumber', 'cucumber', 'cucumber', 'cucumber', 'cucumber', 'head_cabbage', 'head_cabbage', 'head_cabbage', 'head_cabbage', 'head_cabbage', 'head_cabbage', 'kiwi', 'kiwi', 'kiwi', 'kiwi', 'kiwi', 'kiwi', 'lemon', 'lemon', 'lemon', 'lemon', 'orange', 'pineapple', 'pineapple', 'pomegranate', 'pomegranate', 'pomegranate']\n",
            "\n",
            "Accuracy: 54.0%\n",
            "Precision: 23.81%\n",
            "Recall: 20.11%\n",
            "F1 Score: 21.0%\n",
            "\n",
            "Running Pixle attack\n"
          ]
        },
        {
          "output_type": "stream",
          "name": "stderr",
          "text": [
            "/usr/local/lib/python3.10/dist-packages/sklearn/metrics/_classification.py:1344: UndefinedMetricWarning: Precision is ill-defined and being set to 0.0 in labels with no predicted samples. Use `zero_division` parameter to control this behavior.\n",
            "  _warn_prf(average, modifier, msg_start, len(result))\n",
            "/usr/local/lib/python3.10/dist-packages/sklearn/metrics/_classification.py:1344: UndefinedMetricWarning: Recall is ill-defined and being set to 0.0 in labels with no true samples. Use `zero_division` parameter to control this behavior.\n",
            "  _warn_prf(average, modifier, msg_start, len(result))\n"
          ]
        },
        {
          "output_type": "stream",
          "name": "stdout",
          "text": [
            "The Pixle attack took 31.72 sec to complete.\n",
            "Predicted labels: ['strawberry', 'banana', 'nematode', 'banana', 'lighter', 'bell_pepper', 'bell_pepper', 'bell_pepper', 'bell_pepper', 'cauliflower', 'cauliflower', 'cauliflower', 'cauliflower', 'cauliflower', 'cauliflower', 'cauliflower', 'cauliflower', 'ear', 'ear', 'ear', 'ear', 'cucumber', 'cucumber', 'cucumber', 'cucumber', 'cucumber', 'cucumber', 'cucumber', 'head_cabbage', 'head_cabbage', 'head_cabbage', 'head_cabbage', 'head_cabbage', 'head_cabbage', 'banana', 'banana', 'banana', 'banana', 'banana', 'banana', 'lemon', 'lemon', 'lemon', 'lemon', 'orange', 'pineapple', 'pineapple', 'pomegranate', 'pomegranate', 'pomegranate']\n",
            "Actual labels: ['Granny_Smith', 'banana', 'banana', 'banana', 'banana', 'bell_pepper', 'bell_pepper', 'bell_pepper', 'bell_pepper', 'cauliflower', 'cauliflower', 'cauliflower', 'cauliflower', 'cauliflower', 'cauliflower', 'cauliflower', 'cauliflower', 'corn', 'corn', 'corn', 'corn', 'cucumber', 'cucumber', 'cucumber', 'cucumber', 'cucumber', 'cucumber', 'cucumber', 'head_cabbage', 'head_cabbage', 'head_cabbage', 'head_cabbage', 'head_cabbage', 'head_cabbage', 'kiwi', 'kiwi', 'kiwi', 'kiwi', 'kiwi', 'kiwi', 'lemon', 'lemon', 'lemon', 'lemon', 'orange', 'pineapple', 'pineapple', 'pomegranate', 'pomegranate', 'pomegranate']\n",
            "\n",
            "Accuracy: 74.0%\n",
            "Precision: 51.56%\n",
            "Recall: 53.12%\n",
            "F1 Score: 52.08%\n",
            "\n",
            "Running SINIFGSM attack\n"
          ]
        },
        {
          "output_type": "stream",
          "name": "stderr",
          "text": [
            "/usr/local/lib/python3.10/dist-packages/sklearn/metrics/_classification.py:1344: UndefinedMetricWarning: Precision is ill-defined and being set to 0.0 in labels with no predicted samples. Use `zero_division` parameter to control this behavior.\n",
            "  _warn_prf(average, modifier, msg_start, len(result))\n",
            "/usr/local/lib/python3.10/dist-packages/sklearn/metrics/_classification.py:1344: UndefinedMetricWarning: Recall is ill-defined and being set to 0.0 in labels with no true samples. Use `zero_division` parameter to control this behavior.\n",
            "  _warn_prf(average, modifier, msg_start, len(result))\n"
          ]
        },
        {
          "output_type": "stream",
          "name": "stdout",
          "text": [
            "The SINIFGSM attack took 229.59 sec to complete.\n",
            "Predicted labels: ['mouse', 'banana', 'laptop', 'banana', 'envelope', 'bell_pepper', 'bell_pepper', 'tray', 'bell_pepper', 'cauliflower', 'cauliflower', 'cauliflower', 'cauliflower', 'cauliflower', 'cauliflower', 'cauliflower', 'cauliflower', 'cockroach', 'ear', 'ear', 'bath_towel', 'cucumber', 'nematode', 'cucumber', 'nematode', 'hair_slide', 'African_chameleon', 'cucumber', 'head_cabbage', 'head_cabbage', 'head_cabbage', 'head_cabbage', 'head_cabbage', 'head_cabbage', 'maraca', 'brain_coral', 'lemon', 'shower_cap', 'hair_slide', 'orange', 'envelope', 'tray', 'lemon', 'lemon', 'lemon', 'pineapple', 'pineapple', 'chiton', 'book_jacket', 'jellyfish']\n",
            "Actual labels: ['Granny_Smith', 'banana', 'banana', 'banana', 'banana', 'bell_pepper', 'bell_pepper', 'bell_pepper', 'bell_pepper', 'cauliflower', 'cauliflower', 'cauliflower', 'cauliflower', 'cauliflower', 'cauliflower', 'cauliflower', 'cauliflower', 'corn', 'corn', 'corn', 'corn', 'cucumber', 'cucumber', 'cucumber', 'cucumber', 'cucumber', 'cucumber', 'cucumber', 'head_cabbage', 'head_cabbage', 'head_cabbage', 'head_cabbage', 'head_cabbage', 'head_cabbage', 'kiwi', 'kiwi', 'kiwi', 'kiwi', 'kiwi', 'kiwi', 'lemon', 'lemon', 'lemon', 'lemon', 'orange', 'pineapple', 'pineapple', 'pomegranate', 'pomegranate', 'pomegranate']\n",
            "\n",
            "Accuracy: 52.0%\n",
            "Precision: 23.21%\n",
            "Recall: 18.49%\n",
            "F1 Score: 20.09%\n",
            "\n",
            "Running VMIFGSM attack\n"
          ]
        },
        {
          "output_type": "stream",
          "name": "stderr",
          "text": [
            "/usr/local/lib/python3.10/dist-packages/sklearn/metrics/_classification.py:1344: UndefinedMetricWarning: Precision is ill-defined and being set to 0.0 in labels with no predicted samples. Use `zero_division` parameter to control this behavior.\n",
            "  _warn_prf(average, modifier, msg_start, len(result))\n",
            "/usr/local/lib/python3.10/dist-packages/sklearn/metrics/_classification.py:1344: UndefinedMetricWarning: Recall is ill-defined and being set to 0.0 in labels with no true samples. Use `zero_division` parameter to control this behavior.\n",
            "  _warn_prf(average, modifier, msg_start, len(result))\n"
          ]
        },
        {
          "output_type": "stream",
          "name": "stdout",
          "text": [
            "The VMIFGSM attack took 267.68 sec to complete.\n",
            "Predicted labels: ['mouse', 'banana', 'laptop', 'banana', 'envelope', 'bell_pepper', 'bell_pepper', 'tray', 'bell_pepper', 'cauliflower', 'cauliflower', 'cauliflower', 'cauliflower', 'cauliflower', 'cauliflower', 'cauliflower', 'cauliflower', 'cockroach', 'ear', 'ear', 'handkerchief', 'cucumber', 'nematode', 'cucumber', 'nematode', 'hair_slide', 'African_chameleon', 'cucumber', 'head_cabbage', 'head_cabbage', 'head_cabbage', 'head_cabbage', 'head_cabbage', 'head_cabbage', 'tennis_ball', 'brain_coral', 'lemon', 'shower_cap', 'hair_slide', 'orange', 'envelope', 'tray', 'lemon', 'lemon', 'lemon', 'pineapple', 'pineapple', 'chiton', 'book_jacket', 'electric_ray']\n",
            "Actual labels: ['Granny_Smith', 'banana', 'banana', 'banana', 'banana', 'bell_pepper', 'bell_pepper', 'bell_pepper', 'bell_pepper', 'cauliflower', 'cauliflower', 'cauliflower', 'cauliflower', 'cauliflower', 'cauliflower', 'cauliflower', 'cauliflower', 'corn', 'corn', 'corn', 'corn', 'cucumber', 'cucumber', 'cucumber', 'cucumber', 'cucumber', 'cucumber', 'cucumber', 'head_cabbage', 'head_cabbage', 'head_cabbage', 'head_cabbage', 'head_cabbage', 'head_cabbage', 'kiwi', 'kiwi', 'kiwi', 'kiwi', 'kiwi', 'kiwi', 'lemon', 'lemon', 'lemon', 'lemon', 'orange', 'pineapple', 'pineapple', 'pomegranate', 'pomegranate', 'pomegranate']\n",
            "\n",
            "Accuracy: 52.0%\n",
            "Precision: 23.21%\n",
            "Recall: 18.49%\n",
            "F1 Score: 20.09%\n",
            "\n",
            "Running VNIFGSM attack\n"
          ]
        },
        {
          "output_type": "stream",
          "name": "stderr",
          "text": [
            "/usr/local/lib/python3.10/dist-packages/sklearn/metrics/_classification.py:1344: UndefinedMetricWarning: Precision is ill-defined and being set to 0.0 in labels with no predicted samples. Use `zero_division` parameter to control this behavior.\n",
            "  _warn_prf(average, modifier, msg_start, len(result))\n",
            "/usr/local/lib/python3.10/dist-packages/sklearn/metrics/_classification.py:1344: UndefinedMetricWarning: Recall is ill-defined and being set to 0.0 in labels with no true samples. Use `zero_division` parameter to control this behavior.\n",
            "  _warn_prf(average, modifier, msg_start, len(result))\n"
          ]
        },
        {
          "output_type": "stream",
          "name": "stdout",
          "text": [
            "The VNIFGSM attack took 333.08 sec to complete.\n",
            "Predicted labels: ['mouse', 'banana', 'laptop', 'banana', 'envelope', 'bell_pepper', 'bell_pepper', 'tray', 'bell_pepper', 'cauliflower', 'cauliflower', 'cauliflower', 'cauliflower', 'cauliflower', 'cauliflower', 'cauliflower', 'cauliflower', 'goldfish', 'ear', 'ear', 'handkerchief', 'cucumber', 'nematode', 'cucumber', 'nematode', 'hair_slide', 'African_chameleon', 'cucumber', 'head_cabbage', 'head_cabbage', 'head_cabbage', 'head_cabbage', 'head_cabbage', 'head_cabbage', 'tennis_ball', 'brain_coral', 'lemon', 'shower_cap', 'hair_slide', 'orange', 'envelope', 'lemon', 'lemon', 'lemon', 'lemon', 'pineapple', 'pineapple', 'chiton', 'book_jacket', 'electric_ray']\n",
            "Actual labels: ['Granny_Smith', 'banana', 'banana', 'banana', 'banana', 'bell_pepper', 'bell_pepper', 'bell_pepper', 'bell_pepper', 'cauliflower', 'cauliflower', 'cauliflower', 'cauliflower', 'cauliflower', 'cauliflower', 'cauliflower', 'cauliflower', 'corn', 'corn', 'corn', 'corn', 'cucumber', 'cucumber', 'cucumber', 'cucumber', 'cucumber', 'cucumber', 'cucumber', 'head_cabbage', 'head_cabbage', 'head_cabbage', 'head_cabbage', 'head_cabbage', 'head_cabbage', 'kiwi', 'kiwi', 'kiwi', 'kiwi', 'kiwi', 'kiwi', 'lemon', 'lemon', 'lemon', 'lemon', 'orange', 'pineapple', 'pineapple', 'pomegranate', 'pomegranate', 'pomegranate']\n",
            "\n",
            "Accuracy: 54.0%\n",
            "Precision: 23.57%\n",
            "Recall: 19.39%\n",
            "F1 Score: 20.68%\n"
          ]
        },
        {
          "output_type": "stream",
          "name": "stderr",
          "text": [
            "/usr/local/lib/python3.10/dist-packages/sklearn/metrics/_classification.py:1344: UndefinedMetricWarning: Precision is ill-defined and being set to 0.0 in labels with no predicted samples. Use `zero_division` parameter to control this behavior.\n",
            "  _warn_prf(average, modifier, msg_start, len(result))\n",
            "/usr/local/lib/python3.10/dist-packages/sklearn/metrics/_classification.py:1344: UndefinedMetricWarning: Recall is ill-defined and being set to 0.0 in labels with no true samples. Use `zero_division` parameter to control this behavior.\n",
            "  _warn_prf(average, modifier, msg_start, len(result))\n"
          ]
        }
      ],
      "source": [
        "# Load the ImageNet class index file\n",
        "with open('/content/cs199specialproject/imagenet_class_index.json') as f:\n",
        "    class_idx = json.load(f)\n",
        "\n",
        "# Create a parent directory for adversarial images\n",
        "os.makedirs('adversarial_images', exist_ok=True)\n",
        "\n",
        "def get_label_name(index):\n",
        "      return class_idx[f\"{index}\"]\n",
        "\n",
        "predicted_labels = []\n",
        "true_labels = []\n",
        "\n",
        "total_attack_time = 0\n",
        "\n",
        "# Iterate over the attacks\n",
        "for attack_name, attack in attacks.items():\n",
        "    print(f\"\\nRunning {attack_name} attack\")\n",
        "\n",
        "    predicted_labels = []\n",
        "    true_labels = []\n",
        "\n",
        "    total_attack_time = 0\n",
        "\n",
        "    # Iterate over the images\n",
        "    for i, (images, labels) in enumerate(image_loader):\n",
        "\n",
        "        start_time = time.time()\n",
        "\n",
        "        # Apply the attack to the images\n",
        "        adv_images = attack(images, labels)\n",
        "\n",
        "        total_attack_time += time.time() - start_time\n",
        "\n",
        "        # Save the adversarial images\n",
        "        for j, adv_image in enumerate(adv_images):\n",
        "            # Get the true label name for the current image\n",
        "            true_label_name = image_loader.dataset.classes[labels[j]]\n",
        "            os.makedirs(f'adversarial_images/{true_label_name}', exist_ok=True)\n",
        "            save_image(adv_image, f\"adversarial_images/{true_label_name}/{attack_name}_{i}_{j}.png\")\n",
        "\n",
        "        # Pass the adversarial images through the model\n",
        "        outputs = model(adv_images)\n",
        "\n",
        "        # Get the predicted labels\n",
        "        _, preds = torch.max(outputs, 1)\n",
        "\n",
        "        # Convert the predicted labels to their classification names\n",
        "        predicted_labels_names = [get_label_name(label)[1] for label in preds.tolist()]\n",
        "\n",
        "        # Convert the true labels to their classification names\n",
        "        true_labels_names = [image_loader.dataset.classes[label] for label in labels.tolist()]\n",
        "\n",
        "        predicted_labels.extend(predicted_labels_names)\n",
        "        true_labels.extend(true_labels_names)\n",
        "\n",
        "    print(f\"The {attack_name} attack took {round(total_attack_time, 2)} sec to complete.\")\n",
        "    print(f\"Predicted labels: {predicted_labels}\")\n",
        "    print(f\"Actual labels: {true_labels}\")\n",
        "    print()\n",
        "\n",
        "    accuracy = accuracy_score(true_labels, predicted_labels)\n",
        "    print(f'Accuracy: {round(accuracy * 100, 2)}%')\n",
        "    precision = precision_score(true_labels, predicted_labels, average='macro')\n",
        "    print(f'Precision: {round(precision * 100, 2)}%')\n",
        "    recall = recall_score(true_labels, predicted_labels, average='macro')\n",
        "    print(f'Recall: {round(recall * 100, 2)}%')\n",
        "    f1 = f1_score(true_labels, predicted_labels, average='macro')\n",
        "    print(f'F1 Score: {round(f1 * 100, 2)}%')\n"
      ]
    },
    {
      "cell_type": "markdown",
      "metadata": {
        "id": "Uvh9EBIgWodu"
      },
      "source": [
        "#### 8. Save the images\n"
      ]
    },
    {
      "cell_type": "code",
      "execution_count": null,
      "metadata": {
        "id": "a15cGnJZWodu"
      },
      "outputs": [],
      "source": [
        "# Compress the directories into a zip file\n",
        "#shutil.make_archive(\"adversarial_images\", 'zip', \".\")\n",
        "\n",
        "# Download the zip file\n",
        "#files.download(\"adversarial_images.zip\")"
      ]
    },
    {
      "cell_type": "markdown",
      "source": [
        "## **3.7 Analysis Methods**"
      ],
      "metadata": {
        "id": "zVuU7djXNd3C"
      }
    },
    {
      "cell_type": "markdown",
      "source": [
        "Various measures of center (mean, median, and mode) and a measure of variation (standard deviation) are used to interpret the results. This could give the researchers a sense of the central tendency and variability of each metric. Aside from calculating the descriptive statistics, the attacks are ranked based on each performance metric to help identify which attacks perform best and worst on average.\n",
        "\n"
      ],
      "metadata": {
        "id": "NvbFMpQcac-I"
      }
    },
    {
      "cell_type": "markdown",
      "source": [
        "# **4. Results and Discussion**"
      ],
      "metadata": {
        "id": "nN6rSoK10nbP"
      }
    },
    {
      "cell_type": "markdown",
      "source": [
        "This section evaluates and discusses the results of the study. Results come from testing the ResNet50 model's robustness against images generated using adversarial attacks from the torchattacks library."
      ],
      "metadata": {
        "id": "SAMHTTuLCTfF"
      }
    },
    {
      "cell_type": "markdown",
      "source": [
        "### **4.1 Comprehensive Performance Analysis of Each Adversarial Attack Type**"
      ],
      "metadata": {
        "id": "CIKgXvbawSiE"
      }
    },
    {
      "cell_type": "code",
      "source": [
        "import pandas as pd\n",
        "\n",
        "data = {\n",
        "    'No attack': {'accuracy': 72.00, 'precision': 48.53, 'recall': 49.16, 'f1': 48.57, 'time': 0.0},\n",
        "    'FGSM': {'accuracy': 14.00, 'precision': 18.18, 'recall': 7.32, 'f1': 9.55, 'time': 38.37},\n",
        "    'PGD': {'accuracy': 52.00, 'precision': 23.21, 'recall': 18.49, 'f1': 20.09, 'time': 44.32},\n",
        "    'CW': {'accuracy': 50.00, 'precision': 23.21, 'recall': 17.98, 'f1': 19.53, 'time': 73.67},\n",
        "    'PGD (L2)': {'accuracy': 50.00, 'precision': 23.21, 'recall': 17.98, 'f1': 19.53, 'time': 65.92},\n",
        "    'NIFGSM': {'accuracy': 54.00, 'precision': 23.81, 'recall': 20.11, 'f1': 21.00, 'time': 236.56},\n",
        "    'Pixle': {'accuracy': 74.0, 'precision': 51.56, 'recall': 53.12, 'f1': 52.08, 'time': 31.72},\n",
        "    'SINIFGSM': {'accuracy': 52.00, 'precision': 23.21, 'recall': 18.49, 'f1': 20.09, 'time': 229.59},\n",
        "    'VMIFGSM': {'accuracy': 52.00, 'precision': 23.21, 'recall': 18.49, 'f1': 20.09, 'time': 267.68},\n",
        "    'VNIFGSM': {'accuracy': 54.00, 'precision': 23.57, 'recall': 19.39, 'f1': 20.68, 'time': 283.14}\n",
        "    }\n",
        "\n",
        "df = pd.DataFrame(data).T\n",
        "df"
      ],
      "metadata": {
        "colab": {
          "base_uri": "https://localhost:8080/",
          "height": 363
        },
        "id": "ENeloqvfwS7K",
        "outputId": "5c5df946-9bd1-441e-b0dc-8c8f0b10ef21"
      },
      "execution_count": null,
      "outputs": [
        {
          "output_type": "execute_result",
          "data": {
            "text/plain": [
              "           accuracy  precision  recall     f1    time\n",
              "No attack      72.0      48.53   49.16  48.57    0.00\n",
              "FGSM           14.0      18.18    7.32   9.55   38.37\n",
              "PGD            52.0      23.21   18.49  20.09   44.32\n",
              "CW             50.0      23.21   17.98  19.53   73.67\n",
              "PGD (L2)       50.0      23.21   17.98  19.53   65.92\n",
              "NIFGSM         54.0      23.81   20.11  21.00  236.56\n",
              "Pixle          74.0      51.56   53.12  52.08   31.72\n",
              "SINIFGSM       52.0      23.21   18.49  20.09  229.59\n",
              "VMIFGSM        52.0      23.21   18.49  20.09  267.68\n",
              "VNIFGSM        54.0      23.57   19.39  20.68  283.14"
            ],
            "text/html": [
              "\n",
              "  <div id=\"df-ccf293cc-a38d-429b-b271-6a7bbf47cad4\" class=\"colab-df-container\">\n",
              "    <div>\n",
              "<style scoped>\n",
              "    .dataframe tbody tr th:only-of-type {\n",
              "        vertical-align: middle;\n",
              "    }\n",
              "\n",
              "    .dataframe tbody tr th {\n",
              "        vertical-align: top;\n",
              "    }\n",
              "\n",
              "    .dataframe thead th {\n",
              "        text-align: right;\n",
              "    }\n",
              "</style>\n",
              "<table border=\"1\" class=\"dataframe\">\n",
              "  <thead>\n",
              "    <tr style=\"text-align: right;\">\n",
              "      <th></th>\n",
              "      <th>accuracy</th>\n",
              "      <th>precision</th>\n",
              "      <th>recall</th>\n",
              "      <th>f1</th>\n",
              "      <th>time</th>\n",
              "    </tr>\n",
              "  </thead>\n",
              "  <tbody>\n",
              "    <tr>\n",
              "      <th>No attack</th>\n",
              "      <td>72.0</td>\n",
              "      <td>48.53</td>\n",
              "      <td>49.16</td>\n",
              "      <td>48.57</td>\n",
              "      <td>0.00</td>\n",
              "    </tr>\n",
              "    <tr>\n",
              "      <th>FGSM</th>\n",
              "      <td>14.0</td>\n",
              "      <td>18.18</td>\n",
              "      <td>7.32</td>\n",
              "      <td>9.55</td>\n",
              "      <td>38.37</td>\n",
              "    </tr>\n",
              "    <tr>\n",
              "      <th>PGD</th>\n",
              "      <td>52.0</td>\n",
              "      <td>23.21</td>\n",
              "      <td>18.49</td>\n",
              "      <td>20.09</td>\n",
              "      <td>44.32</td>\n",
              "    </tr>\n",
              "    <tr>\n",
              "      <th>CW</th>\n",
              "      <td>50.0</td>\n",
              "      <td>23.21</td>\n",
              "      <td>17.98</td>\n",
              "      <td>19.53</td>\n",
              "      <td>73.67</td>\n",
              "    </tr>\n",
              "    <tr>\n",
              "      <th>PGD (L2)</th>\n",
              "      <td>50.0</td>\n",
              "      <td>23.21</td>\n",
              "      <td>17.98</td>\n",
              "      <td>19.53</td>\n",
              "      <td>65.92</td>\n",
              "    </tr>\n",
              "    <tr>\n",
              "      <th>NIFGSM</th>\n",
              "      <td>54.0</td>\n",
              "      <td>23.81</td>\n",
              "      <td>20.11</td>\n",
              "      <td>21.00</td>\n",
              "      <td>236.56</td>\n",
              "    </tr>\n",
              "    <tr>\n",
              "      <th>Pixle</th>\n",
              "      <td>74.0</td>\n",
              "      <td>51.56</td>\n",
              "      <td>53.12</td>\n",
              "      <td>52.08</td>\n",
              "      <td>31.72</td>\n",
              "    </tr>\n",
              "    <tr>\n",
              "      <th>SINIFGSM</th>\n",
              "      <td>52.0</td>\n",
              "      <td>23.21</td>\n",
              "      <td>18.49</td>\n",
              "      <td>20.09</td>\n",
              "      <td>229.59</td>\n",
              "    </tr>\n",
              "    <tr>\n",
              "      <th>VMIFGSM</th>\n",
              "      <td>52.0</td>\n",
              "      <td>23.21</td>\n",
              "      <td>18.49</td>\n",
              "      <td>20.09</td>\n",
              "      <td>267.68</td>\n",
              "    </tr>\n",
              "    <tr>\n",
              "      <th>VNIFGSM</th>\n",
              "      <td>54.0</td>\n",
              "      <td>23.57</td>\n",
              "      <td>19.39</td>\n",
              "      <td>20.68</td>\n",
              "      <td>283.14</td>\n",
              "    </tr>\n",
              "  </tbody>\n",
              "</table>\n",
              "</div>\n",
              "    <div class=\"colab-df-buttons\">\n",
              "\n",
              "  <div class=\"colab-df-container\">\n",
              "    <button class=\"colab-df-convert\" onclick=\"convertToInteractive('df-ccf293cc-a38d-429b-b271-6a7bbf47cad4')\"\n",
              "            title=\"Convert this dataframe to an interactive table.\"\n",
              "            style=\"display:none;\">\n",
              "\n",
              "  <svg xmlns=\"http://www.w3.org/2000/svg\" height=\"24px\" viewBox=\"0 -960 960 960\">\n",
              "    <path d=\"M120-120v-720h720v720H120Zm60-500h600v-160H180v160Zm220 220h160v-160H400v160Zm0 220h160v-160H400v160ZM180-400h160v-160H180v160Zm440 0h160v-160H620v160ZM180-180h160v-160H180v160Zm440 0h160v-160H620v160Z\"/>\n",
              "  </svg>\n",
              "    </button>\n",
              "\n",
              "  <style>\n",
              "    .colab-df-container {\n",
              "      display:flex;\n",
              "      gap: 12px;\n",
              "    }\n",
              "\n",
              "    .colab-df-convert {\n",
              "      background-color: #E8F0FE;\n",
              "      border: none;\n",
              "      border-radius: 50%;\n",
              "      cursor: pointer;\n",
              "      display: none;\n",
              "      fill: #1967D2;\n",
              "      height: 32px;\n",
              "      padding: 0 0 0 0;\n",
              "      width: 32px;\n",
              "    }\n",
              "\n",
              "    .colab-df-convert:hover {\n",
              "      background-color: #E2EBFA;\n",
              "      box-shadow: 0px 1px 2px rgba(60, 64, 67, 0.3), 0px 1px 3px 1px rgba(60, 64, 67, 0.15);\n",
              "      fill: #174EA6;\n",
              "    }\n",
              "\n",
              "    .colab-df-buttons div {\n",
              "      margin-bottom: 4px;\n",
              "    }\n",
              "\n",
              "    [theme=dark] .colab-df-convert {\n",
              "      background-color: #3B4455;\n",
              "      fill: #D2E3FC;\n",
              "    }\n",
              "\n",
              "    [theme=dark] .colab-df-convert:hover {\n",
              "      background-color: #434B5C;\n",
              "      box-shadow: 0px 1px 3px 1px rgba(0, 0, 0, 0.15);\n",
              "      filter: drop-shadow(0px 1px 2px rgba(0, 0, 0, 0.3));\n",
              "      fill: #FFFFFF;\n",
              "    }\n",
              "  </style>\n",
              "\n",
              "    <script>\n",
              "      const buttonEl =\n",
              "        document.querySelector('#df-ccf293cc-a38d-429b-b271-6a7bbf47cad4 button.colab-df-convert');\n",
              "      buttonEl.style.display =\n",
              "        google.colab.kernel.accessAllowed ? 'block' : 'none';\n",
              "\n",
              "      async function convertToInteractive(key) {\n",
              "        const element = document.querySelector('#df-ccf293cc-a38d-429b-b271-6a7bbf47cad4');\n",
              "        const dataTable =\n",
              "          await google.colab.kernel.invokeFunction('convertToInteractive',\n",
              "                                                    [key], {});\n",
              "        if (!dataTable) return;\n",
              "\n",
              "        const docLinkHtml = 'Like what you see? Visit the ' +\n",
              "          '<a target=\"_blank\" href=https://colab.research.google.com/notebooks/data_table.ipynb>data table notebook</a>'\n",
              "          + ' to learn more about interactive tables.';\n",
              "        element.innerHTML = '';\n",
              "        dataTable['output_type'] = 'display_data';\n",
              "        await google.colab.output.renderOutput(dataTable, element);\n",
              "        const docLink = document.createElement('div');\n",
              "        docLink.innerHTML = docLinkHtml;\n",
              "        element.appendChild(docLink);\n",
              "      }\n",
              "    </script>\n",
              "  </div>\n",
              "\n",
              "\n",
              "<div id=\"df-5589404f-df1e-4520-8d05-ebaae1e63d53\">\n",
              "  <button class=\"colab-df-quickchart\" onclick=\"quickchart('df-5589404f-df1e-4520-8d05-ebaae1e63d53')\"\n",
              "            title=\"Suggest charts\"\n",
              "            style=\"display:none;\">\n",
              "\n",
              "<svg xmlns=\"http://www.w3.org/2000/svg\" height=\"24px\"viewBox=\"0 0 24 24\"\n",
              "     width=\"24px\">\n",
              "    <g>\n",
              "        <path d=\"M19 3H5c-1.1 0-2 .9-2 2v14c0 1.1.9 2 2 2h14c1.1 0 2-.9 2-2V5c0-1.1-.9-2-2-2zM9 17H7v-7h2v7zm4 0h-2V7h2v10zm4 0h-2v-4h2v4z\"/>\n",
              "    </g>\n",
              "</svg>\n",
              "  </button>\n",
              "\n",
              "<style>\n",
              "  .colab-df-quickchart {\n",
              "      --bg-color: #E8F0FE;\n",
              "      --fill-color: #1967D2;\n",
              "      --hover-bg-color: #E2EBFA;\n",
              "      --hover-fill-color: #174EA6;\n",
              "      --disabled-fill-color: #AAA;\n",
              "      --disabled-bg-color: #DDD;\n",
              "  }\n",
              "\n",
              "  [theme=dark] .colab-df-quickchart {\n",
              "      --bg-color: #3B4455;\n",
              "      --fill-color: #D2E3FC;\n",
              "      --hover-bg-color: #434B5C;\n",
              "      --hover-fill-color: #FFFFFF;\n",
              "      --disabled-bg-color: #3B4455;\n",
              "      --disabled-fill-color: #666;\n",
              "  }\n",
              "\n",
              "  .colab-df-quickchart {\n",
              "    background-color: var(--bg-color);\n",
              "    border: none;\n",
              "    border-radius: 50%;\n",
              "    cursor: pointer;\n",
              "    display: none;\n",
              "    fill: var(--fill-color);\n",
              "    height: 32px;\n",
              "    padding: 0;\n",
              "    width: 32px;\n",
              "  }\n",
              "\n",
              "  .colab-df-quickchart:hover {\n",
              "    background-color: var(--hover-bg-color);\n",
              "    box-shadow: 0 1px 2px rgba(60, 64, 67, 0.3), 0 1px 3px 1px rgba(60, 64, 67, 0.15);\n",
              "    fill: var(--button-hover-fill-color);\n",
              "  }\n",
              "\n",
              "  .colab-df-quickchart-complete:disabled,\n",
              "  .colab-df-quickchart-complete:disabled:hover {\n",
              "    background-color: var(--disabled-bg-color);\n",
              "    fill: var(--disabled-fill-color);\n",
              "    box-shadow: none;\n",
              "  }\n",
              "\n",
              "  .colab-df-spinner {\n",
              "    border: 2px solid var(--fill-color);\n",
              "    border-color: transparent;\n",
              "    border-bottom-color: var(--fill-color);\n",
              "    animation:\n",
              "      spin 1s steps(1) infinite;\n",
              "  }\n",
              "\n",
              "  @keyframes spin {\n",
              "    0% {\n",
              "      border-color: transparent;\n",
              "      border-bottom-color: var(--fill-color);\n",
              "      border-left-color: var(--fill-color);\n",
              "    }\n",
              "    20% {\n",
              "      border-color: transparent;\n",
              "      border-left-color: var(--fill-color);\n",
              "      border-top-color: var(--fill-color);\n",
              "    }\n",
              "    30% {\n",
              "      border-color: transparent;\n",
              "      border-left-color: var(--fill-color);\n",
              "      border-top-color: var(--fill-color);\n",
              "      border-right-color: var(--fill-color);\n",
              "    }\n",
              "    40% {\n",
              "      border-color: transparent;\n",
              "      border-right-color: var(--fill-color);\n",
              "      border-top-color: var(--fill-color);\n",
              "    }\n",
              "    60% {\n",
              "      border-color: transparent;\n",
              "      border-right-color: var(--fill-color);\n",
              "    }\n",
              "    80% {\n",
              "      border-color: transparent;\n",
              "      border-right-color: var(--fill-color);\n",
              "      border-bottom-color: var(--fill-color);\n",
              "    }\n",
              "    90% {\n",
              "      border-color: transparent;\n",
              "      border-bottom-color: var(--fill-color);\n",
              "    }\n",
              "  }\n",
              "</style>\n",
              "\n",
              "  <script>\n",
              "    async function quickchart(key) {\n",
              "      const quickchartButtonEl =\n",
              "        document.querySelector('#' + key + ' button');\n",
              "      quickchartButtonEl.disabled = true;  // To prevent multiple clicks.\n",
              "      quickchartButtonEl.classList.add('colab-df-spinner');\n",
              "      try {\n",
              "        const charts = await google.colab.kernel.invokeFunction(\n",
              "            'suggestCharts', [key], {});\n",
              "      } catch (error) {\n",
              "        console.error('Error during call to suggestCharts:', error);\n",
              "      }\n",
              "      quickchartButtonEl.classList.remove('colab-df-spinner');\n",
              "      quickchartButtonEl.classList.add('colab-df-quickchart-complete');\n",
              "    }\n",
              "    (() => {\n",
              "      let quickchartButtonEl =\n",
              "        document.querySelector('#df-5589404f-df1e-4520-8d05-ebaae1e63d53 button');\n",
              "      quickchartButtonEl.style.display =\n",
              "        google.colab.kernel.accessAllowed ? 'block' : 'none';\n",
              "    })();\n",
              "  </script>\n",
              "</div>\n",
              "    </div>\n",
              "  </div>\n"
            ],
            "application/vnd.google.colaboratory.intrinsic+json": {
              "type": "dataframe",
              "variable_name": "df",
              "summary": "{\n  \"name\": \"df\",\n  \"rows\": 10,\n  \"fields\": [\n    {\n      \"column\": \"accuracy\",\n      \"properties\": {\n        \"dtype\": \"number\",\n        \"std\": 16.132782359737785,\n        \"min\": 14.0,\n        \"max\": 74.0,\n        \"num_unique_values\": 6,\n        \"samples\": [\n          72.0,\n          14.0,\n          74.0\n        ],\n        \"semantic_type\": \"\",\n        \"description\": \"\"\n      }\n    },\n    {\n      \"column\": \"precision\",\n      \"properties\": {\n        \"dtype\": \"number\",\n        \"std\": 11.664758891635953,\n        \"min\": 18.18,\n        \"max\": 51.56,\n        \"num_unique_values\": 6,\n        \"samples\": [\n          48.53,\n          18.18,\n          23.57\n        ],\n        \"semantic_type\": \"\",\n        \"description\": \"\"\n      }\n    },\n    {\n      \"column\": \"recall\",\n      \"properties\": {\n        \"dtype\": \"number\",\n        \"std\": 14.75405635372486,\n        \"min\": 7.32,\n        \"max\": 53.12,\n        \"num_unique_values\": 7,\n        \"samples\": [\n          49.16,\n          7.32,\n          53.12\n        ],\n        \"semantic_type\": \"\",\n        \"description\": \"\"\n      }\n    },\n    {\n      \"column\": \"f1\",\n      \"properties\": {\n        \"dtype\": \"number\",\n        \"std\": 13.72044658327288,\n        \"min\": 9.55,\n        \"max\": 52.08,\n        \"num_unique_values\": 7,\n        \"samples\": [\n          48.57,\n          9.55,\n          52.08\n        ],\n        \"semantic_type\": \"\",\n        \"description\": \"\"\n      }\n    },\n    {\n      \"column\": \"time\",\n      \"properties\": {\n        \"dtype\": \"number\",\n        \"std\": 112.13680266630676,\n        \"min\": 0.0,\n        \"max\": 283.14,\n        \"num_unique_values\": 10,\n        \"samples\": [\n          267.68,\n          38.37,\n          236.56\n        ],\n        \"semantic_type\": \"\",\n        \"description\": \"\"\n      }\n    }\n  ]\n}"
            }
          },
          "metadata": {},
          "execution_count": 5
        }
      ]
    },
    {
      "cell_type": "markdown",
      "source": [
        "Table 4.1 shows the results of the experimentation. Each row represents an adversarial attack type (including the case where no attack was made), while each column represents their performance metrics, including accuracy, precision, recall, f1-score, and attack execution time.\n",
        "The results of the experiment with regards to each adversarial attack type are listed below:\n",
        "\n",
        "- No Attack: As expected, without any adversarial attack, the model performs the best with an accuracy of 72.00%, precision of 48.53%, recall of 49.16%, and F1 score of 48.57%.\n",
        "\n",
        "- Fast Gradient Sign Method (FGSM): FGSM significantly reduces the model’s performance, lowering the accuracy to 14.00%. This shows the effectiveness of FGSM in creating adversarial examples that can mislead the model.\n",
        "\n",
        "- Projected Gradient Descent (PGD): PGD also effectively reduces the model’s performance, with an accuracy of 52.00%. It takes slightly longer than FGSM, indicating a trade-off between attack effectiveness and computational cost.\n",
        "\n",
        "- Carlini & Wagner (CW) Attack: The CW attack decreases the model’s accuracy to 50.00%. It takes more time than both FGSM and PGD, suggesting that it might be a more complex attack method.\n",
        "\n",
        "- Projected Gradient Descent with L2 Norm Constraint (PGD L2): This variant of PGD has the same effect on the model’s performance as the standard PGD and CW attack, but it takes slightly more time.\n",
        "\n",
        "- Nesterov Iterative Fast Gradient Sign Method (NIFGSM): NIFGSM slightly improves the model’s accuracy compared to PGD, CW, and PGD L2, but it takes significantly more time, indicating a higher computational cost.\n",
        "\n",
        "- Pixle: Pixle seems to be the least effective adversarial attack in this list, as the model’s performance is only slightly reduced compared to the case where no attack was used. However, it takes less time than most other attacks.\n",
        "\n",
        "- Scale-Invariant Nesterov Iterative Fast Gradient Sign Method (SINIFGSM): SINIFGSM has the same effect on the model’s performance as PGD, CW, and PGD L2, but it takes significantly more time.\n",
        "\n",
        "- VMIFGSM: VMIFGSM has the same effect on the model’s performance as PGD, CW, and PGD L2, but it takes even more time than SINIFGSM.\n",
        "\n",
        "- VNIFGSM: VNIFGSM slightly improves the model’s accuracy compared to PGD, CW, PGD L2, SINIFGSM, and VMIFGSM, but it takes the most time among all the attacks.\n",
        "\n",
        "\n",
        "To better visualize this information, the researchers made a bar graph per performance metric. Each graph plots the values obtained for each case of attack.\n"
      ],
      "metadata": {
        "id": "6lI3kph0lYOA"
      }
    },
    {
      "cell_type": "markdown",
      "source": [
        "### **4.2 Comparative Analysis of Performance Metrics Across Adversarial Attack Types**"
      ],
      "metadata": {
        "id": "oseXQzxqwPpw"
      }
    },
    {
      "cell_type": "code",
      "source": [
        "import matplotlib.pyplot as plt\n",
        "import numpy as np\n",
        "\n",
        "data = {\n",
        "    'No attack': {'accuracy': 72.00, 'precision': 48.53, 'recall': 49.16, 'f1': 48.57, 'time': 0.0},\n",
        "    'FGSM': {'accuracy': 14.00, 'precision': 18.18, 'recall': 7.32, 'f1': 9.55, 'time': 38.37},\n",
        "    'PGD': {'accuracy': 52.00, 'precision': 23.21, 'recall': 18.49, 'f1': 20.09, 'time': 44.32},\n",
        "    'CW': {'accuracy': 50.00, 'precision': 23.21, 'recall': 17.98, 'f1': 19.53, 'time': 73.67},\n",
        "    'PGD (L2)': {'accuracy': 50.00, 'precision': 23.21, 'recall': 17.98, 'f1': 19.53, 'time': 65.92},\n",
        "    'NIFGSM': {'accuracy': 54.00, 'precision': 23.81, 'recall': 20.11, 'f1': 21.00, 'time': 236.56},\n",
        "    'Pixle': {'accuracy': 74.0, 'precision': 51.56, 'recall': 53.12, 'f1': 52.08, 'time': 31.72},\n",
        "    'SINIFGSM': {'accuracy': 52.00, 'precision': 23.21, 'recall': 18.49, 'f1': 20.09, 'time': 229.59},\n",
        "    'VMIFGSM': {'accuracy': 52.00, 'precision': 23.21, 'recall': 18.49, 'f1': 20.09, 'time': 267.68},\n",
        "    'VNIFGSM': {'accuracy': 54.00, 'precision': 23.57, 'recall': 19.39, 'f1': 20.68, 'time': 283.14}\n",
        "    }\n",
        "\n",
        "\n",
        "# Create a bar chart for each metric\n",
        "for metric in ['accuracy', 'precision', 'recall', 'f1', 'time']:\n",
        "    plt.figure(figsize=(10, 6))\n",
        "    bars = plt.bar(data.keys(), [values[metric] for values in data.values()])\n",
        "    plt.title(f'Comparison of {metric} for different attacks')\n",
        "    plt.ylabel(metric)\n",
        "\n",
        "    for bar in bars:\n",
        "        yval = bar.get_height()\n",
        "        plt.text(bar.get_x() + bar.get_width()/2, yval + 0.01, round(yval, 2), ha='center', va='bottom')\n",
        "\n",
        "    plt.show()\n",
        "\n"
      ],
      "metadata": {
        "colab": {
          "base_uri": "https://localhost:8080/",
          "height": 1000
        },
        "id": "VQCFVDZ3qf8h",
        "outputId": "0b876bfa-9df6-4bdd-c86b-5515c17ed1a4"
      },
      "execution_count": null,
      "outputs": [
        {
          "output_type": "display_data",
          "data": {
            "text/plain": [
              "<Figure size 1000x600 with 1 Axes>"
            ],
            "image/png": "[encoded data removed]"
          },
          "metadata": {}
        },
        {
          "output_type": "display_data",
          "data": {
            "text/plain": [
              "<Figure size 1000x600 with 1 Axes>"
            ],
            "image/png": "[encoded data removed]"
          },
          "metadata": {}
        },
        {
          "output_type": "display_data",
          "data": {
            "text/plain": [
              "<Figure size 1000x600 with 1 Axes>"
            ],
            "image/png": "[encoded data removed]"
          },
          "metadata": {}
        },
        {
          "output_type": "display_data",
          "data": {
            "text/plain": [
              "<Figure size 1000x600 with 1 Axes>"
            ],
            "image/png": "[encoded data removed]"
          },
          "metadata": {}
        },
        {
          "output_type": "display_data",
          "data": {
            "text/plain": [
              "<Figure size 1000x600 with 1 Axes>"
            ],
            "image/png": "[encoded data removed]"
          },
          "metadata": {}
        }
      ]
    },
    {
      "cell_type": "markdown",
      "source": [
        "a. **Accuracy**: The cases where Pixle was used and no adversarial attack was used yielded the highest accuracy, with scores of 74.00% and 72.00%, respectively. This indicates that the model performs best when there is no adversarial attack or when the Pixle attack is used. On the other hand, the FGSM attack results in the lowest accuracy with a score of 14.00%, suggesting that this attack significantly impairs the model’s performance.\n",
        "\n",
        "b. **Precision**:\n",
        "Again, the cases where Pixle was used and no adversarial attack was used yielded the highest precision, with scores of 51.56% and 48.53%, respectively. This indicates that the model’s positive predictions are most reliable in these scenarios. On the other hand, the FGSM attack results in the lowest precision (18.18%), suggesting that this attack causes the model to make a large number of false positive predictions.\n",
        "\n",
        "c. **Recall**:\n",
        "The cases where Pixle was used and no adversarial attack was used yielded the highest recall with scores of 49.16% and 53.12%, respectively.\n",
        "This indicates that the model is best able to identify all positive instances in these scenarios. On the other hand, the FGSM attack results in the lowest recall (7.32%), suggesting that this attack causes the model to miss a large number of positive instances.\n",
        "\n",
        "d. **F1 Score**:\n",
        "The cases where Pixle was used and no adversarial attack was used yielded the highest F1 with scores of 52.08% and 48.57%, respectively. This indicates that the model achieves the best balance between precision and recall in these scenarios. On the other hand, the FGSM attack results in the lowest F1 score (9.55%), suggesting that this attack significantly disrupts the balance between precision and recall.\n",
        "\n",
        "e. **Time**: Pixle takes the least time of 31.72 seconds (excluding the case where no adversarial attack was used), while the VNIFGSM attack takes the most time of attack execution at 283.14 seconds. This suggests that some adversarial attacks may be more computationally intensive than others."
      ],
      "metadata": {
        "id": "BhtJqPG1moab"
      }
    },
    {
      "cell_type": "markdown",
      "source": [
        "### **4.3 Evaluation of Central Tendency and Dispersion Measures for Each Performance Metric**"
      ],
      "metadata": {
        "id": "1CONXYiYc1G4"
      }
    },
    {
      "cell_type": "code",
      "source": [
        "import pandas as pd\n",
        "import numpy as np\n",
        "\n",
        "data = {\n",
        "    'No attack': {'accuracy': 72.00, 'precision': 48.53, 'recall': 49.16, 'f1': 48.57, 'time': 0.0},\n",
        "    'FGSM': {'accuracy': 14.00, 'precision': 18.18, 'recall': 7.32, 'f1': 9.55, 'time': 38.37},\n",
        "    'PGD': {'accuracy': 52.00, 'precision': 23.21, 'recall': 18.49, 'f1': 20.09, 'time': 44.32},\n",
        "    'CW': {'accuracy': 50.00, 'precision': 23.21, 'recall': 17.98, 'f1': 19.53, 'time': 73.67},\n",
        "    'PGD (L2)': {'accuracy': 50.00, 'precision': 23.21, 'recall': 17.98, 'f1': 19.53, 'time': 65.92},\n",
        "    'NIFGSM': {'accuracy': 54.00, 'precision': 23.81, 'recall': 20.11, 'f1': 21.00, 'time': 236.56},\n",
        "    'Pixle': {'accuracy': 74.0, 'precision': 51.56, 'recall': 53.12, 'f1': 52.08, 'time': 31.72},\n",
        "    'SINIFGSM': {'accuracy': 52.00, 'precision': 23.21, 'recall': 18.49, 'f1': 20.09, 'time': 229.59},\n",
        "    'VMIFGSM': {'accuracy': 52.00, 'precision': 23.21, 'recall': 18.49, 'f1': 20.09, 'time': 267.68},\n",
        "    'VNIFGSM': {'accuracy': 54.00, 'precision': 23.57, 'recall': 19.39, 'f1': 20.68, 'time': 283.14}\n",
        "}\n",
        "\n",
        "df = pd.DataFrame(data).T\n",
        "\n",
        "mean = df.mean()\n",
        "median = df.median()\n",
        "mode = df.mode().loc[0]\n",
        "std_dev = df.std()\n",
        "\n",
        "stats_df = pd.DataFrame({'Mean': mean, 'Median': median, 'Mode': mode, 'Standard Deviation': std_dev})\n",
        "stats_df\n"
      ],
      "metadata": {
        "colab": {
          "base_uri": "https://localhost:8080/",
          "height": 206
        },
        "id": "8pVpxBFrxyM6",
        "outputId": "64e78455-0940-4157-cf8f-3d113ceecc50"
      },
      "execution_count": null,
      "outputs": [
        {
          "output_type": "execute_result",
          "data": {
            "text/plain": [
              "              Mean  Median   Mode  Standard Deviation\n",
              "accuracy    52.400  52.000  52.00           16.132782\n",
              "precision   28.170  23.210  23.21           11.664759\n",
              "recall      24.053  18.490  18.49           14.754056\n",
              "f1          25.121  20.090  20.09           13.720447\n",
              "time       127.097  69.795   0.00          112.136803"
            ],
            "text/html": [
              "\n",
              "  <div id=\"df-1456dda2-51e5-4e23-a96f-568a87bdea4f\" class=\"colab-df-container\">\n",
              "    <div>\n",
              "<style scoped>\n",
              "    .dataframe tbody tr th:only-of-type {\n",
              "        vertical-align: middle;\n",
              "    }\n",
              "\n",
              "    .dataframe tbody tr th {\n",
              "        vertical-align: top;\n",
              "    }\n",
              "\n",
              "    .dataframe thead th {\n",
              "        text-align: right;\n",
              "    }\n",
              "</style>\n",
              "<table border=\"1\" class=\"dataframe\">\n",
              "  <thead>\n",
              "    <tr style=\"text-align: right;\">\n",
              "      <th></th>\n",
              "      <th>Mean</th>\n",
              "      <th>Median</th>\n",
              "      <th>Mode</th>\n",
              "      <th>Standard Deviation</th>\n",
              "    </tr>\n",
              "  </thead>\n",
              "  <tbody>\n",
              "    <tr>\n",
              "      <th>accuracy</th>\n",
              "      <td>52.400</td>\n",
              "      <td>52.000</td>\n",
              "      <td>52.00</td>\n",
              "      <td>16.132782</td>\n",
              "    </tr>\n",
              "    <tr>\n",
              "      <th>precision</th>\n",
              "      <td>28.170</td>\n",
              "      <td>23.210</td>\n",
              "      <td>23.21</td>\n",
              "      <td>11.664759</td>\n",
              "    </tr>\n",
              "    <tr>\n",
              "      <th>recall</th>\n",
              "      <td>24.053</td>\n",
              "      <td>18.490</td>\n",
              "      <td>18.49</td>\n",
              "      <td>14.754056</td>\n",
              "    </tr>\n",
              "    <tr>\n",
              "      <th>f1</th>\n",
              "      <td>25.121</td>\n",
              "      <td>20.090</td>\n",
              "      <td>20.09</td>\n",
              "      <td>13.720447</td>\n",
              "    </tr>\n",
              "    <tr>\n",
              "      <th>time</th>\n",
              "      <td>127.097</td>\n",
              "      <td>69.795</td>\n",
              "      <td>0.00</td>\n",
              "      <td>112.136803</td>\n",
              "    </tr>\n",
              "  </tbody>\n",
              "</table>\n",
              "</div>\n",
              "    <div class=\"colab-df-buttons\">\n",
              "\n",
              "  <div class=\"colab-df-container\">\n",
              "    <button class=\"colab-df-convert\" onclick=\"convertToInteractive('df-1456dda2-51e5-4e23-a96f-568a87bdea4f')\"\n",
              "            title=\"Convert this dataframe to an interactive table.\"\n",
              "            style=\"display:none;\">\n",
              "\n",
              "  <svg xmlns=\"http://www.w3.org/2000/svg\" height=\"24px\" viewBox=\"0 -960 960 960\">\n",
              "    <path d=\"M120-120v-720h720v720H120Zm60-500h600v-160H180v160Zm220 220h160v-160H400v160Zm0 220h160v-160H400v160ZM180-400h160v-160H180v160Zm440 0h160v-160H620v160ZM180-180h160v-160H180v160Zm440 0h160v-160H620v160Z\"/>\n",
              "  </svg>\n",
              "    </button>\n",
              "\n",
              "  <style>\n",
              "    .colab-df-container {\n",
              "      display:flex;\n",
              "      gap: 12px;\n",
              "    }\n",
              "\n",
              "    .colab-df-convert {\n",
              "      background-color: #E8F0FE;\n",
              "      border: none;\n",
              "      border-radius: 50%;\n",
              "      cursor: pointer;\n",
              "      display: none;\n",
              "      fill: #1967D2;\n",
              "      height: 32px;\n",
              "      padding: 0 0 0 0;\n",
              "      width: 32px;\n",
              "    }\n",
              "\n",
              "    .colab-df-convert:hover {\n",
              "      background-color: #E2EBFA;\n",
              "      box-shadow: 0px 1px 2px rgba(60, 64, 67, 0.3), 0px 1px 3px 1px rgba(60, 64, 67, 0.15);\n",
              "      fill: #174EA6;\n",
              "    }\n",
              "\n",
              "    .colab-df-buttons div {\n",
              "      margin-bottom: 4px;\n",
              "    }\n",
              "\n",
              "    [theme=dark] .colab-df-convert {\n",
              "      background-color: #3B4455;\n",
              "      fill: #D2E3FC;\n",
              "    }\n",
              "\n",
              "    [theme=dark] .colab-df-convert:hover {\n",
              "      background-color: #434B5C;\n",
              "      box-shadow: 0px 1px 3px 1px rgba(0, 0, 0, 0.15);\n",
              "      filter: drop-shadow(0px 1px 2px rgba(0, 0, 0, 0.3));\n",
              "      fill: #FFFFFF;\n",
              "    }\n",
              "  </style>\n",
              "\n",
              "    <script>\n",
              "      const buttonEl =\n",
              "        document.querySelector('#df-1456dda2-51e5-4e23-a96f-568a87bdea4f button.colab-df-convert');\n",
              "      buttonEl.style.display =\n",
              "        google.colab.kernel.accessAllowed ? 'block' : 'none';\n",
              "\n",
              "      async function convertToInteractive(key) {\n",
              "        const element = document.querySelector('#df-1456dda2-51e5-4e23-a96f-568a87bdea4f');\n",
              "        const dataTable =\n",
              "          await google.colab.kernel.invokeFunction('convertToInteractive',\n",
              "                                                    [key], {});\n",
              "        if (!dataTable) return;\n",
              "\n",
              "        const docLinkHtml = 'Like what you see? Visit the ' +\n",
              "          '<a target=\"_blank\" href=https://colab.research.google.com/notebooks/data_table.ipynb>data table notebook</a>'\n",
              "          + ' to learn more about interactive tables.';\n",
              "        element.innerHTML = '';\n",
              "        dataTable['output_type'] = 'display_data';\n",
              "        await google.colab.output.renderOutput(dataTable, element);\n",
              "        const docLink = document.createElement('div');\n",
              "        docLink.innerHTML = docLinkHtml;\n",
              "        element.appendChild(docLink);\n",
              "      }\n",
              "    </script>\n",
              "  </div>\n",
              "\n",
              "\n",
              "<div id=\"df-87d32f71-a518-4d61-9ca5-ba705db0c1ed\">\n",
              "  <button class=\"colab-df-quickchart\" onclick=\"quickchart('df-87d32f71-a518-4d61-9ca5-ba705db0c1ed')\"\n",
              "            title=\"Suggest charts\"\n",
              "            style=\"display:none;\">\n",
              "\n",
              "<svg xmlns=\"http://www.w3.org/2000/svg\" height=\"24px\"viewBox=\"0 0 24 24\"\n",
              "     width=\"24px\">\n",
              "    <g>\n",
              "        <path d=\"M19 3H5c-1.1 0-2 .9-2 2v14c0 1.1.9 2 2 2h14c1.1 0 2-.9 2-2V5c0-1.1-.9-2-2-2zM9 17H7v-7h2v7zm4 0h-2V7h2v10zm4 0h-2v-4h2v4z\"/>\n",
              "    </g>\n",
              "</svg>\n",
              "  </button>\n",
              "\n",
              "<style>\n",
              "  .colab-df-quickchart {\n",
              "      --bg-color: #E8F0FE;\n",
              "      --fill-color: #1967D2;\n",
              "      --hover-bg-color: #E2EBFA;\n",
              "      --hover-fill-color: #174EA6;\n",
              "      --disabled-fill-color: #AAA;\n",
              "      --disabled-bg-color: #DDD;\n",
              "  }\n",
              "\n",
              "  [theme=dark] .colab-df-quickchart {\n",
              "      --bg-color: #3B4455;\n",
              "      --fill-color: #D2E3FC;\n",
              "      --hover-bg-color: #434B5C;\n",
              "      --hover-fill-color: #FFFFFF;\n",
              "      --disabled-bg-color: #3B4455;\n",
              "      --disabled-fill-color: #666;\n",
              "  }\n",
              "\n",
              "  .colab-df-quickchart {\n",
              "    background-color: var(--bg-color);\n",
              "    border: none;\n",
              "    border-radius: 50%;\n",
              "    cursor: pointer;\n",
              "    display: none;\n",
              "    fill: var(--fill-color);\n",
              "    height: 32px;\n",
              "    padding: 0;\n",
              "    width: 32px;\n",
              "  }\n",
              "\n",
              "  .colab-df-quickchart:hover {\n",
              "    background-color: var(--hover-bg-color);\n",
              "    box-shadow: 0 1px 2px rgba(60, 64, 67, 0.3), 0 1px 3px 1px rgba(60, 64, 67, 0.15);\n",
              "    fill: var(--button-hover-fill-color);\n",
              "  }\n",
              "\n",
              "  .colab-df-quickchart-complete:disabled,\n",
              "  .colab-df-quickchart-complete:disabled:hover {\n",
              "    background-color: var(--disabled-bg-color);\n",
              "    fill: var(--disabled-fill-color);\n",
              "    box-shadow: none;\n",
              "  }\n",
              "\n",
              "  .colab-df-spinner {\n",
              "    border: 2px solid var(--fill-color);\n",
              "    border-color: transparent;\n",
              "    border-bottom-color: var(--fill-color);\n",
              "    animation:\n",
              "      spin 1s steps(1) infinite;\n",
              "  }\n",
              "\n",
              "  @keyframes spin {\n",
              "    0% {\n",
              "      border-color: transparent;\n",
              "      border-bottom-color: var(--fill-color);\n",
              "      border-left-color: var(--fill-color);\n",
              "    }\n",
              "    20% {\n",
              "      border-color: transparent;\n",
              "      border-left-color: var(--fill-color);\n",
              "      border-top-color: var(--fill-color);\n",
              "    }\n",
              "    30% {\n",
              "      border-color: transparent;\n",
              "      border-left-color: var(--fill-color);\n",
              "      border-top-color: var(--fill-color);\n",
              "      border-right-color: var(--fill-color);\n",
              "    }\n",
              "    40% {\n",
              "      border-color: transparent;\n",
              "      border-right-color: var(--fill-color);\n",
              "      border-top-color: var(--fill-color);\n",
              "    }\n",
              "    60% {\n",
              "      border-color: transparent;\n",
              "      border-right-color: var(--fill-color);\n",
              "    }\n",
              "    80% {\n",
              "      border-color: transparent;\n",
              "      border-right-color: var(--fill-color);\n",
              "      border-bottom-color: var(--fill-color);\n",
              "    }\n",
              "    90% {\n",
              "      border-color: transparent;\n",
              "      border-bottom-color: var(--fill-color);\n",
              "    }\n",
              "  }\n",
              "</style>\n",
              "\n",
              "  <script>\n",
              "    async function quickchart(key) {\n",
              "      const quickchartButtonEl =\n",
              "        document.querySelector('#' + key + ' button');\n",
              "      quickchartButtonEl.disabled = true;  // To prevent multiple clicks.\n",
              "      quickchartButtonEl.classList.add('colab-df-spinner');\n",
              "      try {\n",
              "        const charts = await google.colab.kernel.invokeFunction(\n",
              "            'suggestCharts', [key], {});\n",
              "      } catch (error) {\n",
              "        console.error('Error during call to suggestCharts:', error);\n",
              "      }\n",
              "      quickchartButtonEl.classList.remove('colab-df-spinner');\n",
              "      quickchartButtonEl.classList.add('colab-df-quickchart-complete');\n",
              "    }\n",
              "    (() => {\n",
              "      let quickchartButtonEl =\n",
              "        document.querySelector('#df-87d32f71-a518-4d61-9ca5-ba705db0c1ed button');\n",
              "      quickchartButtonEl.style.display =\n",
              "        google.colab.kernel.accessAllowed ? 'block' : 'none';\n",
              "    })();\n",
              "  </script>\n",
              "</div>\n",
              "    </div>\n",
              "  </div>\n"
            ],
            "application/vnd.google.colaboratory.intrinsic+json": {
              "type": "dataframe",
              "variable_name": "stats_df",
              "summary": "{\n  \"name\": \"stats_df\",\n  \"rows\": 5,\n  \"fields\": [\n    {\n      \"column\": \"Mean\",\n      \"properties\": {\n        \"dtype\": \"number\",\n        \"std\": 43.90076281455711,\n        \"min\": 24.053000000000004,\n        \"max\": 127.09700000000002,\n        \"num_unique_values\": 5,\n        \"samples\": [\n          28.170000000000005,\n          127.09700000000002,\n          24.053000000000004\n        ],\n        \"semantic_type\": \"\",\n        \"description\": \"\"\n      }\n    },\n    {\n      \"column\": \"Median\",\n      \"properties\": {\n        \"dtype\": \"number\",\n        \"std\": 23.015450679923696,\n        \"min\": 18.49,\n        \"max\": 69.795,\n        \"num_unique_values\": 5,\n        \"samples\": [\n          23.21,\n          69.795,\n          18.49\n        ],\n        \"semantic_type\": \"\",\n        \"description\": \"\"\n      }\n    },\n    {\n      \"column\": \"Mode\",\n      \"properties\": {\n        \"dtype\": \"number\",\n        \"std\": 18.69865957762748,\n        \"min\": 0.0,\n        \"max\": 52.0,\n        \"num_unique_values\": 5,\n        \"samples\": [\n          23.21,\n          0.0,\n          18.49\n        ],\n        \"semantic_type\": \"\",\n        \"description\": \"\"\n      }\n    },\n    {\n      \"column\": \"Standard Deviation\",\n      \"properties\": {\n        \"dtype\": \"number\",\n        \"std\": 43.88798432497707,\n        \"min\": 11.664758891635953,\n        \"max\": 112.13680266630676,\n        \"num_unique_values\": 5,\n        \"samples\": [\n          11.664758891635953,\n          112.13680266630676,\n          14.75405635372486\n        ],\n        \"semantic_type\": \"\",\n        \"description\": \"\"\n      }\n    }\n  ]\n}"
            }
          },
          "metadata": {},
          "execution_count": 3
        }
      ]
    },
    {
      "cell_type": "markdown",
      "source": [
        "a. **Accuracy**: The mean, median, and mode of this metric are almost equal to each other (52.4, 52.0, and 52.0). This could signify that the distribution is nearly perfectly symmetrical and non-skewed (Statsdirect, n.d.). The mean of this metric shows that, on average, the model classifies approximately half of the adversarial examples correctly. This is 27.22% less than the model's accuracy in the 'no attack' case at 72%. On the other hand, despite having the second highest standard deviation among all of the metrics at 16.13, this indicates a moderate spread of scores.\n",
        "\n",
        "\n",
        "b. **Precision**: On average, the model's positive predictions are 28.17% correct. This is slightly higher than the median and mode, indicating a slight skew in the data. Furthermore, the precision's mean is 41.95% less than the model's precision in the 'no attack' case at 48.53%. The median and mode being equal at 23.21% suggests that these are the common values across different adversarial attacks. Having a standard deviation of 11.66 indicates a moderate spread of scores.\n",
        "\n",
        "\n",
        "c. **Recall**: On average, the model correctly identifies 24.05% of all actual positive cases. This is slightly higher than the median and mode, indicating a slight skew in the data. Furthermore, the recall's mean is 51.08% less than the model's precision in the 'no attack' case at 49.16%. The median and mode being equal at 18.49% suggests that these are the common values across different adversarial attacks. Having a standard deviation of 14.75 indicates a moderate spread of scores.\n",
        "\n",
        "\n",
        "d. **F1-score**: An F1 score is considered perfect at 100%, and worst at 0%. The mean F1 score of 25.12% suggests that the model has low effectiveness in classifying adversarial examples.\n",
        "Furthermore, the F1 score's mean is 48.28% less than the model's precision in the 'no attack' case at 48.57%. The median and mode being equal at 20.09% suggests that these are the common values across different adversarial attacks. Having a standard deviation of 13.72 indicates a moderate spread of scores.\n",
        "\n",
        "\n",
        "e. **Attack execution time**: On average, the model identifies all adversarial images, regardless of whether they are correct or wrong, within 127.10 seconds. This is slightly higher than the median and mode, indicating a slight skew in the data. The standard deviation of 112.14 indicates a high variation in prediction time, which could be due to image complexity or hardware performance.\n",
        "\n",
        "In summary, the results of the experiment suggest a significant decrease in the model's performance when classifying adversarial images compared to untampered images. The model can correctly classify these images about 50% of the time (accuracy). It also showed low percentages of correctly identifying positive instances (low recall and precision). The F1 score's mean being low signifies low balance in the model's precision and recall. In this case, both precision and recall are scored low, implying a decrease in accuracy and robustness."
      ],
      "metadata": {
        "id": "-QWLg4we1ppE"
      }
    },
    {
      "cell_type": "markdown",
      "source": [
        "## **5. Conclusions**"
      ],
      "metadata": {
        "id": "TKwBGIONGTEh"
      }
    },
    {
      "cell_type": "markdown",
      "source": [
        "As machine learning models continue to become more prevalent in studying big data, our understanding of adversarial attacks and examples need to keep up. This study provides significant insights about the robustness of the convolutional neural network classification model ResNet50 against various adversarial attacks. The results are already presented and they signified a significant decrease in performance (accuracy, precision, and recall).\n",
        "\n",
        "Fast Gradient Sign Method (FGSM) was able to fool the model the most by achieving the lowest accuracy for all adversary attacks. On the other hand, the Pixle attack also displayed fascinating results by being the least effective, even displaying a slight performance improvement compared to when no attack was applied to the model.\n",
        "\n",
        "The study also showed potential for a trade-off between attack effectiveness and computation cost. A few adversarial attacks were relatively time-consuming, e. g. VNIFGSM took about more time to create an adversarial example, and marginally enhanced the accuracy results slightly compared to some other attacks.\n",
        "\n"
      ],
      "metadata": {
        "id": "omkwEm7JGeY3"
      }
    },
    {
      "cell_type": "markdown",
      "source": [
        "## **6. Recommendations**"
      ],
      "metadata": {
        "id": "DA_TVKAc1qGV"
      }
    },
    {
      "cell_type": "markdown",
      "source": [
        "Based on the results of the study, the researchers propose to consider several recommendations for future research. The main constraints of this study are a lack of time and limitations in hardware resource adequacy. As such, allotting more time and optimizing hardware resources should allow for more extensive testing. This includes expanding the dataset, utilizing other adversarial attack libraries, considering different sampling methods, and investigating additional performance metrics. This, in turn, provides a more comprehensive assessment of the model's performance against adversarial attacks.\n",
        "\n",
        "Furthermore, future studies can also employ multiple models, aside from the ResNet50 model, in order to compare various models' levels of robustness and accuracy against adversarial attacks. Different models are trained on different datasets, resulting in varied classification specializations. Lastly, new research can focus on training the model(s) using the images generated by multiple adversarial attacks. Doing so explores the possibilities of improving the robustness and accuracy of the model(s) against significant perturbations.\n",
        "\n",
        "Considering these recommendations for future research can allow for possible breakthroughs or advancements in our understanding of the robustness of classification models against adversarial attacks. This could mean better and more resilient models in the future."
      ],
      "metadata": {
        "id": "34z8XQh-1tfA"
      }
    },
    {
      "cell_type": "markdown",
      "metadata": {
        "id": "anT3H25_BmgV"
      },
      "source": [
        "# **References**"
      ]
    },
    {
      "cell_type": "markdown",
      "metadata": {
        "id": "GA7QD4YaHHX_"
      },
      "source": [
        "Baeldung. (2024, March 18). *F-1 score for multi-class classification*. Baeldung on Computer Science. https://www.baeldung.com/cs/multi-class-f1-score\n",
        "\n",
        "Evidently AI Team. (n.d.). *Accuracy, precision, and recall in multi-class classification*. Evidently AI - Open-Source ML Monitoring and Observability. https://www.evidentlyai.com/classification-metrics/multi-class-metrics\n",
        "\n",
        "Gupta, M. (2024, February 1). *Calculating Precision & Recall for Multi-Class Classification*. Medium. https://medium.com/data-science-in-your-pocket/calculating-precision-recall-for-multi-class-classification-9055931ee229\n",
        "\n",
        "Haldar, S. (2020, April 9). *Gradient-based adversarial attacks : An introduction*. Medium. https://medium.com/swlh/gradient-based-adversarial-attacks-an-introduction-526238660dc9\n",
        "\n",
        "Seth, K. (2022, February 12). *Fruits and vegetables image recognition dataset.* Kaggle 2020. https://www.kaggle.com/datasets/kritikseth/fruit-and-vegetable-image-recognition\n",
        "\n",
        "*ResNet-50 convolutional neural network*. MATLAB. (n.d.). https://www.mathworks.com/help/deeplearning/ref/resnet50.html\n",
        "\n",
        "Statsdirect. (n.d.). *Central tendency*. StatsDirect. https://www.statsdirect.com/help/basic_descriptive_statistics/central_tendency.htm"
      ]
    }
  ],
  "metadata": {
    "colab": {
      "collapsed_sections": [
        "2NSRTelDTWaf",
        "RO0u5G26Wode"
      ],
      "provenance": []
    },
    "kernelspec": {
      "display_name": "Python 3",
      "name": "python3"
    },
    "language_info": {
      "name": "python"
    }
  },
  "nbformat": 4,
  "nbformat_minor": 0
}